{
 "cells": [
  {
   "cell_type": "code",
   "execution_count": null,
   "metadata": {},
   "outputs": [],
   "source": [
    "def maxProfit(prices: List[int]) -> int:\n",
    "    if not prices:\n",
    "        return 0\n",
    "    \n",
    "   \n",
    "    min_price = float('inf') # 初始化最低买入价为正无穷大\n",
    "    max_profit = 0 # 初始化最大利润\n",
    "    \n",
    "    # 遍历价格数组\n",
    "    for price in prices:\n",
    "        # 更新最低买入价\n",
    "        if price < min_price:\n",
    "            min_price = price\n",
    "        else:\n",
    "            # 更新最大利润\n",
    "            max_profit = max(max_profit, price - min_price)\n",
    "    \n",
    "    return max_profit\n"
   ]
  }
 ],
 "metadata": {
  "language_info": {
   "name": "python"
  }
 },
 "nbformat": 4,
 "nbformat_minor": 2
}
