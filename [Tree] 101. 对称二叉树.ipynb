{
 "cells": [
  {
   "cell_type": "code",
   "execution_count": null,
   "metadata": {},
   "outputs": [],
   "source": [
    "# Definition for a binary tree node.\n",
    "# class TreeNode:\n",
    "#     def __init__(self, val=0, left=None, right=None):\n",
    "#         self.val = val\n",
    "#         self.left = left\n",
    "#         self.right = right\n",
    "class Solution:\n",
    "    def isSymmetric(self, root: Optional[TreeNode]) -> bool:\n",
    "        # 空树一定是对称的\n",
    "        if not root:\n",
    "            return True\n",
    "        # 调用递归函数检查左右子树是否镜像对称\n",
    "        return self.isMirror(root.left, root.right)\n",
    "    \n",
    "    def isMirror(self, left: Optional[TreeNode], right: Optional[TreeNode]) -> bool:\n",
    "        # 两个节点都为空，返回 True\n",
    "        if not left and not right:\n",
    "            return True\n",
    "        # 一个节点为空，另一个不为空，返回 False\n",
    "        if not left or not right:\n",
    "            return False\n",
    "        # 检查当前节点的值是否相同，并递归检查子节点是否镜像\n",
    "        return (left.val == right.val and\n",
    "                self.isMirror(left.left, right.right) and\n",
    "                self.isMirror(left.right, right.left))"
   ]
  }
 ],
 "metadata": {
  "language_info": {
   "name": "python"
  }
 },
 "nbformat": 4,
 "nbformat_minor": 2
}
