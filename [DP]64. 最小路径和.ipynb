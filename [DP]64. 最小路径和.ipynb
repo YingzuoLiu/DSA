{
 "cells": [
  {
   "cell_type": "code",
   "execution_count": null,
   "metadata": {},
   "outputs": [],
   "source": [
    "class Solution:\n",
    "    def minPathSum(self, grid: List[List[int]]) -> int:\n",
    "        # 获取网格的行数和列数\n",
    "        m, n = len(grid), len(grid[0])\n",
    "        \n",
    "        # 初始化 dp 数组\n",
    "        dp = [[0] * n for _ in range(m)]\n",
    "        dp[0][0] = grid[0][0]\n",
    "        \n",
    "        # 初始化第一行\n",
    "        for j in range(1, n):\n",
    "            dp[0][j] = dp[0][j-1] + grid[0][j]\n",
    "        \n",
    "        # 初始化第一列\n",
    "        for i in range(1, m):\n",
    "            dp[i][0] = dp[i-1][0] + grid[i][0]\n",
    "        \n",
    "        # 填充 dp 数组\n",
    "        for i in range(1, m):\n",
    "            for j in range(1, n):\n",
    "                dp[i][j] = min(dp[i-1][j], dp[i][j-1]) + grid[i][j]\n",
    "        \n",
    "        # 返回右下角的值\n",
    "        return dp[m-1][n-1]"
   ]
  },
  {
   "cell_type": "markdown",
   "metadata": {},
   "source": [
    "解决思路：\n",
    "创建一个和 grid 相同大小的二维数组 dp，dp[i][j] 表示从左上角到达位置 (i, j) 的最小路径和。\n",
    "初始化 dp 的第一个元素，即 dp[0][0] = grid[0][0]。\n",
    "对于第一行，只能从左边来，路径和为前一个格子的值加上当前格子的值，即 dp[0][j] = dp[0][j-1] + grid[0][j]。\n",
    "对于第一列，只能从上边来，路径和为上一个格子的值加上当前格子的值，即 dp[i][0] = dp[i-1][0] + grid[i][0]。\n",
    "对于其他位置 (i, j)，我们只能从左边 (i, j-1) 或上边 (i-1, j) 来，因此 dp[i][j] = min(dp[i-1][j], dp[i][j-1]) + grid[i][j]，选择路径和较小的方向。\n",
    "最终，dp[m-1][n-1] 就是从左上角到右下角的最小路径和。"
   ]
  }
 ],
 "metadata": {
  "language_info": {
   "name": "python"
  }
 },
 "nbformat": 4,
 "nbformat_minor": 2
}
