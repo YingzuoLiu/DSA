{
 "cells": [
  {
   "cell_type": "code",
   "execution_count": null,
   "metadata": {},
   "outputs": [],
   "source": [
    "class Solution:\n",
    "    def removeDuplicates(self, nums: List[int]) -> int:\n",
    "        if not nums:\n",
    "            return 0\n",
    "        \n",
    "        j = 0\n",
    "\n",
    "        for i in range(1, len(nums)):\n",
    "            if nums[i] != nums[j]:\n",
    "                j += 1\n",
    "                nums[j] = nums[i]\n",
    "    \n",
    "        return j + 1"
   ]
  },
  {
   "cell_type": "markdown",
   "metadata": {},
   "source": [
    "初始化：\n",
    "j = 0（慢指针指向第一个元素），i = 1（快指针从第二个元素开始遍历）。\n",
    "\n",
    "遍历数组：\n",
    "\n",
    "第一步：i = 1，nums[i] == nums[j]（即 nums[1] == nums[0]，都是1），所以不更新 j，只是增加 i。\n",
    "第二步：i = 2，nums[i] != nums[j]（即 nums[2] == 2，nums[0] == 1），这时发现了新元素，于是 j 增加1 (j = 1)，并将 nums[2] 赋值给 nums[1]，即 nums[j] = nums[i]，数组变为 [1, 2, 2, 2, 3]。\n",
    "第三步：i = 3，nums[i] == nums[j]（即 nums[3] == nums[1]，都是2），所以不更新 j，继续增加 i。\n",
    "第四步：i = 4，nums[i] != nums[j]（即 nums[4] == 3，nums[1] == 2），又发现了新元素，于是 j 增加1 (j = 2)，并将 nums[4] 赋值给 nums[2]，数组变为 [1, 2, 3, 2, 3]。\n",
    "结束：\n",
    "\n",
    "当 i 遍历完数组后，j 最终停留在 2 位置，而 j + 1 则是唯一元素的总数（3）。\n",
    "因此，我们返回 j + 1 作为最终结果。\n",
    "总结\n",
    "j + 1 表示数组中唯一元素的数量，因为 j 是基于索引从 0 开始的。因此，j 记录的是最后一个唯一元素的索引位置，而唯一元素的数量则是 j + 1。"
   ]
  }
 ],
 "metadata": {
  "language_info": {
   "name": "python"
  }
 },
 "nbformat": 4,
 "nbformat_minor": 2
}
