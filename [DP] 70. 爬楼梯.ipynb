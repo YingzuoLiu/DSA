{
 "cells": [
  {
   "cell_type": "code",
   "execution_count": null,
   "metadata": {},
   "outputs": [],
   "source": [
    "class Solution:\n",
    "    def climbStairs(self, n: int) -> int:\n",
    "        if n == 1:\n",
    "            return 1\n",
    "        if n == 2:\n",
    "            return 2\n",
    "        \n",
    "        # 初始化前两个台阶的值\n",
    "        first = 1\n",
    "        second = 2\n",
    "        \n",
    "        # 使用迭代的方式计算到第 n 阶\n",
    "        for i in range(3, n + 1):\n",
    "            third = first + second\n",
    "            first = second\n",
    "            second = third\n",
    "        \n",
    "        return second"
   ]
  }
 ],
 "metadata": {
  "language_info": {
   "name": "python"
  }
 },
 "nbformat": 4,
 "nbformat_minor": 2
}
