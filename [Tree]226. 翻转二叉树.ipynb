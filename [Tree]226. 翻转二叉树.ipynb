{
 "cells": [
  {
   "cell_type": "code",
   "execution_count": null,
   "metadata": {},
   "outputs": [],
   "source": [
    "# Definition for a binary tree node.\n",
    "# class TreeNode:\n",
    "#     def __init__(self, val=0, left=None, right=None):\n",
    "#         self.val = val\n",
    "#         self.left = left\n",
    "#         self.right = right\n",
    "class Solution:\n",
    "    def invertTree(self, root: Optional[TreeNode]) -> Optional[TreeNode]:\n",
    "        if not root:\n",
    "            return None\n",
    "        \n",
    "        # 递归翻转左右子树\n",
    "        left_inverted = self.invertTree(root.left)\n",
    "        right_inverted = self.invertTree(root.right)\n",
    "        \n",
    "        # 交换左右子树\n",
    "        root.left = right_inverted\n",
    "        root.right = left_inverted\n",
    "        return root"
   ]
  },
  {
   "cell_type": "code",
   "execution_count": null,
   "metadata": {},
   "outputs": [],
   "source": [
    "# 构建二叉树\n",
    "root = TreeNode(4)\n",
    "root.left = TreeNode(2, TreeNode(1), TreeNode(3))\n",
    "root.right = TreeNode(7, TreeNode(6), TreeNode(9))\n",
    "\n",
    "# 翻转二叉树\n",
    "solution = Solution()\n",
    "new_root = solution.invertTree(root)\n",
    "\n",
    "# 使用前序遍历来查看树的结构\n",
    "def pre_order(node):\n",
    "    if not node:\n",
    "        return []\n",
    "    return [node.val] + pre_order(node.left) + pre_order(node.right)\n",
    "\n",
    "print(pre_order(new_root))  \n"
   ]
  }
 ],
 "metadata": {
  "language_info": {
   "name": "python"
  }
 },
 "nbformat": 4,
 "nbformat_minor": 2
}
