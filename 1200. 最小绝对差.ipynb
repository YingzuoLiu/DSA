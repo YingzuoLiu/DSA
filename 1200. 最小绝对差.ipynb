{
 "cells": [
  {
   "cell_type": "code",
   "execution_count": null,
   "metadata": {},
   "outputs": [],
   "source": [
    "class Solution:\n",
    "    def minimumAbsDifference(self, arr: List[int]) -> List[List[int]]:\n",
    "        # Step 1: 排序数组\n",
    "        arr.sort()\n",
    "        \n",
    "        # Step 2: 初始化最小绝对差\n",
    "        min_diff = float('inf')\n",
    "        result = []\n",
    "        \n",
    "        # Step 3: 找到最小的绝对差\n",
    "        for i in range(1, len(arr)):\n",
    "            diff = arr[i] - arr[i - 1]\n",
    "            min_diff = min(min_diff, diff)\n",
    "        \n",
    "        # Step 4: 找出所有最小绝对差的元素对\n",
    "        for i in range(1, len(arr)):\n",
    "            if arr[i] - arr[i - 1] == min_diff:\n",
    "                result.append([arr[i - 1], arr[i]])\n",
    "        \n",
    "        return result   "
   ]
  }
 ],
 "metadata": {
  "language_info": {
   "name": "python"
  }
 },
 "nbformat": 4,
 "nbformat_minor": 2
}
