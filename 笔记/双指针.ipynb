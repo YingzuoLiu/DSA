{
 "cells": [
  {
   "cell_type": "markdown",
   "metadata": {},
   "source": [
    "1. 有序数组中的问题\n",
    "这类题目通常利用双指针从不同方向移动来查找结果，避免重复遍历。\n",
    "\n",
    "两数之和\n",
    "\n",
    "问题描述：在有序数组中找到两个数，使它们的和等于目标值。\n",
    "解法：使用左右指针，左指针从数组开始，右指针从数组末尾。如果和小于目标值，左指针右移；如果和大于目标值，右指针左移。\n",
    "时间复杂度：O(n)"
   ]
  },
  {
   "cell_type": "code",
   "execution_count": null,
   "metadata": {},
   "outputs": [],
   "source": [
    "def twoSum(nums, target):\n",
    "    left, right = 0, len(nums) - 1\n",
    "    while left < right:\n",
    "        curr_sum = nums[left] + nums[right]\n",
    "        if curr_sum == target:\n",
    "            return [left, right]\n",
    "        elif curr_sum < target:\n",
    "            left += 1\n",
    "        else:\n",
    "            right -= 1\n",
    "    return []\n"
   ]
  },
  {
   "cell_type": "markdown",
   "metadata": {},
   "source": [
    "2. 快慢指针\n",
    "这种技术常用于检测链表中是否有环，或者在链表中找某个节点（比如链表的中间节点）。\n",
    "\n",
    "链表是否有环\n",
    "\n",
    "问题描述：判断一个链表是否包含环。\n",
    "解法：使用快慢指针，快指针一次走两步，慢指针一次走一步。如果快慢指针相遇，则链表有环。\n",
    "时间复杂度：O(n)"
   ]
  },
  {
   "cell_type": "code",
   "execution_count": null,
   "metadata": {},
   "outputs": [],
   "source": [
    "class ListNode:\n",
    "    def __init__(self, val=0, next=None):\n",
    "        self.val = val\n",
    "        self.next = next\n",
    "\n",
    "def hasCycle(head):\n",
    "    slow, fast = head, head\n",
    "    while fast and fast.next:\n",
    "        slow = slow.next\n",
    "        fast = fast.next.next\n",
    "        if slow == fast:\n",
    "            return True\n",
    "    return False\n"
   ]
  },
  {
   "cell_type": "markdown",
   "metadata": {},
   "source": [
    "3. 左右夹逼（滑动窗口）\n",
    "双指针可以配合滑动窗口，用来解决很多子数组或子串的长度问题。滑动窗口适用于处理连续元素的累加或比较问题。\n",
    "\n",
    "最长不重复子串\n",
    "\n",
    "问题描述：给定一个字符串，找出其中不含重复字符的最长子串的长度。\n",
    "解法：使用双指针构建一个滑动窗口，左指针表示窗口开始，右指针表示窗口结束，动态更新窗口中的字符，并调整窗口大小。\n",
    "时间复杂度：O(n)"
   ]
  },
  {
   "cell_type": "code",
   "execution_count": null,
   "metadata": {},
   "outputs": [],
   "source": [
    "def lengthOfLongestSubstring(s: str) -> int:\n",
    "    char_set = set()\n",
    "    left = 0\n",
    "    max_length = 0\n",
    "\n",
    "    for right in range(len(s)):\n",
    "        while s[right] in char_set:\n",
    "            char_set.remove(s[left])\n",
    "            left += 1\n",
    "        char_set.add(s[right])\n",
    "        max_length = max(max_length, right - left + 1)\n",
    "\n",
    "    return max_length\n"
   ]
  },
  {
   "cell_type": "markdown",
   "metadata": {},
   "source": [
    "4. 两路合并\n",
    "双指针可以帮助合并两个有序数组或者链表，并保证结果也是有序的。这个技巧经常出现在归并排序、合并两个有序数组等问题中。\n",
    "\n",
    "合并两个有序数组\n",
    "\n",
    "问题描述：合并两个有序数组，保证结果数组也是有序的。\n",
    "解法：使用两个指针分别指向两个数组的起点，比较两个指针所指的值，取较小值加入结果数组，并移动指针。\n",
    "时间复杂度：O(n + m)"
   ]
  },
  {
   "cell_type": "code",
   "execution_count": null,
   "metadata": {},
   "outputs": [],
   "source": [
    "def merge(nums1, nums2):\n",
    "    result = []\n",
    "    i, j = 0, 0\n",
    "\n",
    "    while i < len(nums1) and j < len(nums2):\n",
    "        if nums1[i] < nums2[j]:\n",
    "            result.append(nums1[i])\n",
    "            i += 1\n",
    "        else:\n",
    "            result.append(nums2[j])\n",
    "            j += 1\n",
    "\n",
    "    result.extend(nums1[i:])\n",
    "    result.extend(nums2[j:])\n",
    "    return result\n"
   ]
  },
  {
   "cell_type": "markdown",
   "metadata": {},
   "source": [
    "5. 区间问题\n",
    "处理区间合并、覆盖、交集问题时，可以使用双指针来确定区间的左、右边界，并动态调整。\n",
    "\n",
    "合并区间\n",
    "\n",
    "问题描述：给定多个区间，合并所有重叠的区间。\n",
    "解法：先按照区间起点排序，然后用双指针遍历区间，合并相邻且重叠的区间。\n",
    "时间复杂度：O(n log n)（排序消耗）"
   ]
  },
  {
   "cell_type": "code",
   "execution_count": null,
   "metadata": {},
   "outputs": [],
   "source": [
    "def merge(intervals):\n",
    "    intervals.sort(key=lambda x: x[0])\n",
    "    merged = []\n",
    "\n",
    "    for interval in intervals:\n",
    "        if not merged or merged[-1][1] < interval[0]:\n",
    "            merged.append(interval)\n",
    "        else:\n",
    "            merged[-1][1] = max(merged[-1][1], interval[1])\n",
    "\n",
    "    return merged\n"
   ]
  },
  {
   "cell_type": "markdown",
   "metadata": {},
   "source": [
    "6. 双指针用于排序和选择问题\n",
    "在某些排序和选择类问题中，双指针可以用于快速找到目标值。例如：快速选择算法（Quick Select）可以用于找到数组中的第 k 大元素。\n",
    "\n",
    "寻找第 k 大元素\n",
    "\n",
    "问题描述：在无序数组中找到第 k 大的元素。\n",
    "解法：使用快速选择算法，基于快速排序的思想，用双指针划分数组，递归处理部分数组。\n",
    "时间复杂度：O(n)（平均情况）"
   ]
  },
  {
   "cell_type": "code",
   "execution_count": null,
   "metadata": {},
   "outputs": [],
   "source": [
    "import random\n",
    "\n",
    "def quickSelect(nums, k):\n",
    "    def partition(left, right, pivot_index):\n",
    "        pivot = nums[pivot_index]\n",
    "        nums[pivot_index], nums[right] = nums[right], nums[pivot_index]\n",
    "        store_index = left\n",
    "\n",
    "        for i in range(left, right):\n",
    "            if nums[i] < pivot:\n",
    "                nums[store_index], nums[i] = nums[i], nums[store_index]\n",
    "                store_index += 1\n",
    "\n",
    "        nums[right], nums[store_index] = nums[store_index], nums[right]\n",
    "        return store_index\n",
    "\n",
    "    left, right = 0, len(nums) - 1\n",
    "    k = len(nums) - k\n",
    "\n",
    "    while left <= right:\n",
    "        pivot_index = random.randint(left, right)\n",
    "        pivot_index = partition(left, right, pivot_index)\n",
    "\n",
    "        if pivot_index == k:\n",
    "            return nums[k]\n",
    "        elif pivot_index < k:\n",
    "            left = pivot_index + 1\n",
    "        else:\n",
    "            right = pivot_index - 1\n"
   ]
  }
 ],
 "metadata": {
  "language_info": {
   "name": "python"
  }
 },
 "nbformat": 4,
 "nbformat_minor": 2
}
