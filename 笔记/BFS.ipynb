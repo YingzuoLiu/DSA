{
 "cells": [
  {
   "cell_type": "markdown",
   "metadata": {},
   "source": [
    "BFS 的基本实现框架\n",
    "队列初始化：将起点节点入队。\n",
    "循环遍历：在队列不为空时，弹出队列头部节点，访问其相邻节点。\n",
    "记录访问状态：在访问节点时，记录其状态，避免重复访问。\n",
    "终止条件：找到目标节点或遍历完所有节点后结束"
   ]
  },
  {
   "cell_type": "markdown",
   "metadata": {},
   "source": [
    "1. 树的层序遍历\n",
    "用于二叉树等层级结构的数据，按层次逐层访问节点。"
   ]
  },
  {
   "cell_type": "code",
   "execution_count": null,
   "metadata": {},
   "outputs": [],
   "source": [
    "from collections import deque\n",
    "\n",
    "def level_order_traversal(root):\n",
    "    if not root:\n",
    "        return []\n",
    "    \n",
    "    queue = deque([root])\n",
    "    result = []\n",
    "    \n",
    "    while queue:\n",
    "        level = []\n",
    "        for _ in range(len(queue)):\n",
    "            node = queue.popleft()\n",
    "            level.append(node.val)\n",
    "            \n",
    "            # Add children of current node to the queue\n",
    "            if node.left:\n",
    "                queue.append(node.left)\n",
    "            if node.right:\n",
    "                queue.append(node.right)\n",
    "        \n",
    "        result.append(level)\n",
    "    \n",
    "    return result\n"
   ]
  },
  {
   "cell_type": "markdown",
   "metadata": {},
   "source": [
    "2. 最短路径问题\n",
    "适用于无权图中找最短路径，记录路径长度。"
   ]
  },
  {
   "cell_type": "code",
   "execution_count": null,
   "metadata": {},
   "outputs": [],
   "source": [
    "from collections import deque\n",
    "\n",
    "def shortest_path(graph, start, end):\n",
    "    queue = deque([(start, 0)])  # Each element is a tuple (node, path_length)\n",
    "    visited = set([start])\n",
    "    \n",
    "    while queue:\n",
    "        node, path_length = queue.popleft()\n",
    "        \n",
    "        # Check if we reached the end\n",
    "        if node == end:\n",
    "            return path_length\n",
    "        \n",
    "        # Explore neighbors\n",
    "        for neighbor in graph[node]:\n",
    "            if neighbor not in visited:\n",
    "                visited.add(neighbor)\n",
    "                queue.append((neighbor, path_length + 1))\n",
    "    \n",
    "    return -1  # Return -1 if no path exists\n"
   ]
  },
  {
   "cell_type": "markdown",
   "metadata": {},
   "source": [
    "3. 最小步数问题\n",
    "常用于状态转换题中，从初始状态到目标状态找到最小转换次数。"
   ]
  },
  {
   "cell_type": "code",
   "execution_count": null,
   "metadata": {},
   "outputs": [],
   "source": [
    "from collections import deque\n",
    "\n",
    "def min_steps(start, target, get_neighbors):\n",
    "    queue = deque([(start, 0)])  # (current_state, steps)\n",
    "    visited = set([start])\n",
    "    \n",
    "    while queue:\n",
    "        state, steps = queue.popleft()\n",
    "        \n",
    "        if state == target:\n",
    "            return steps\n",
    "        \n",
    "        for neighbor in get_neighbors(state):\n",
    "            if neighbor not in visited:\n",
    "                visited.add(neighbor)\n",
    "                queue.append((neighbor, steps + 1))\n",
    "    \n",
    "    return -1  # No path to target\n"
   ]
  },
  {
   "cell_type": "markdown",
   "metadata": {},
   "source": [
    "4. 岛屿与区域填充问题\n",
    "在网格中计算连通区域面积，或填充区域问题。"
   ]
  },
  {
   "cell_type": "code",
   "execution_count": null,
   "metadata": {},
   "outputs": [],
   "source": [
    "from collections import deque\n",
    "\n",
    "def max_island_area(grid):\n",
    "    rows, cols = len(grid), len(grid[0])\n",
    "    directions = [(0, 1), (1, 0), (0, -1), (-1, 0)]\n",
    "    max_area = 0\n",
    "    \n",
    "    def bfs(r, c):\n",
    "        queue = deque([(r, c)])\n",
    "        area = 0\n",
    "        grid[r][c] = 0  # Mark as visited\n",
    "        \n",
    "        while queue:\n",
    "            x, y = queue.popleft()\n",
    "            area += 1\n",
    "            \n",
    "            for dx, dy in directions:\n",
    "                nx, ny = x + dx, y + dy\n",
    "                if 0 <= nx < rows and 0 <= ny < cols and grid[nx][ny] == 1:\n",
    "                    grid[nx][ny] = 0  # Mark as visited\n",
    "                    queue.append((nx, ny))\n",
    "        \n",
    "        return area\n",
    "    \n",
    "    for r in range(rows):\n",
    "        for c in range(cols):\n",
    "            if grid[r][c] == 1:\n",
    "                max_area = max(max_area, bfs(r, c))\n",
    "    \n",
    "    return max_area\n"
   ]
  },
  {
   "cell_type": "markdown",
   "metadata": {},
   "source": [
    "5. 多源 BFS 问题\n",
    "从多个源点同时出发，适用于多点扩散类问题。"
   ]
  },
  {
   "cell_type": "code",
   "execution_count": null,
   "metadata": {},
   "outputs": [],
   "source": [
    "from collections import deque\n",
    "\n",
    "def multi_source_bfs(grid, sources):\n",
    "    rows, cols = len(grid), len(grid[0])\n",
    "    directions = [(0, 1), (1, 0), (0, -1), (-1, 0)]\n",
    "    queue = deque([(r, c, 0) for r, c in sources])  # (row, col, distance)\n",
    "    visited = set(sources)\n",
    "    \n",
    "    while queue:\n",
    "        x, y, dist = queue.popleft()\n",
    "        \n",
    "        for dx, dy in directions:\n",
    "            nx, ny = x + dx, y + dy\n",
    "            if 0 <= nx < rows and 0 <= ny < cols and (nx, ny) not in visited:\n",
    "                visited.add((nx, ny))\n",
    "                queue.append((nx, ny, dist + 1))\n",
    "    \n",
    "    # Here, you can return results based on the specific problem needs\n",
    "    return visited\n"
   ]
  }
 ],
 "metadata": {
  "language_info": {
   "name": "python"
  }
 },
 "nbformat": 4,
 "nbformat_minor": 2
}
