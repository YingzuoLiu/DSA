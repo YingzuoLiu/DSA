{
 "cells": [
  {
   "cell_type": "markdown",
   "metadata": {},
   "source": [
    "# 动态规划问题分类\n",
    "\n",
    "## 1. 一维 DP\n",
    "- **爬楼梯问题**:  \n",
    "  `dp[i] = dp[i-1] + dp[i-2]`\n",
    "\n",
    "- **斐波那契数列**:  \n",
    "  `dp[i] = dp[i-1] + dp[i-2]`\n",
    "\n",
    "- **最小硬币数问题**:  \n",
    "  `dp[i] = min(dp[i], dp[i - coin] + 1)`  \n",
    "  （如果 `coin` 能凑成 `i`）\n",
    "\n",
    "## 2. 二维 DP\n",
    "- **最长公共子序列**:  \n",
    "  `dp[i][j] = dp[i-1][j-1] + 1`  \n",
    "  （如果 `text1[i] == text2[j]`）\n",
    "\n",
    "- **最小路径和**:  \n",
    "  `dp[i][j] = min(dp[i-1][j], dp[i][j-1]) + grid[i][j]`\n",
    "\n",
    "## 3. 背包问题\n",
    "- **01 背包**: 每个物品只能用一次  \n",
    "  `dp[i][j] = max(dp[i-1][j], dp[i-1][j-weight] + value)`\n",
    "\n",
    "- **完全背包**: 每个物品可以用多次  \n",
    "  `dp[i][j] = max(dp[i-1][j], dp[i][j-weight] + value)`\n",
    "\n",
    "## 4. 区间 DP\n",
    "- **戳气球问题**:  \n",
    "  `dp[i][j] = max(dp[i][k] + dp[k][j] + nums[i]*nums[k]*nums[j])`\n",
    "\n",
    "- **合并石头问题**:  \n",
    "  `dp[i][j] = min(dp[i][k] + dp[k+1][j] + sum(i, j))`\n"
   ]
  }
 ],
 "metadata": {
  "language_info": {
   "name": "python"
  }
 },
 "nbformat": 4,
 "nbformat_minor": 2
}
