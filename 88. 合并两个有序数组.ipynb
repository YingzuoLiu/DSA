{
 "cells": [
  {
   "cell_type": "code",
   "execution_count": null,
   "metadata": {},
   "outputs": [],
   "source": [
    "class Solution:\n",
    "    def merge(self, nums1: List[int], m: int, nums2: List[int], n: int) -> None:\n",
    "        nums1[m:] = nums2[:n]\n",
    "        nums1.sort()"
   ]
  }
 ],
 "metadata": {
  "language_info": {
   "name": "python"
  }
 },
 "nbformat": 4,
 "nbformat_minor": 2
}
class Solution:
    def merge(self, nums1: List[int], m: int, nums2: List[int], n: int) -> None:
        # 初始化指针，分别指向 nums1 和 nums2 的末尾
        p1 = m - 1
        p2 = n - 1
        # 初始化 nums1 的末尾指针
        p = m + n - 1
        
        # 当 nums2 没有遍历完时
        while p2 >= 0:
            if p1 >= 0 and nums1[p1] > nums2[p2]:
              nums1[p] = nums1[p1]  # 将 nums1[p1] 的值放入 nums1[p]
              p1 -= 1  # p1 指针向前移动一位
            else:
              nums1[p] = nums2[p2]  # 将 nums2[p2] 的值放入 nums1[p]
              p2 -= 1  # p2 指针向前移动一位
        p -= 1  # p 指针向前移动一位
