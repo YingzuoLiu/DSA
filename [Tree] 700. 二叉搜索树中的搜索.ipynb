{
 "cells": [
  {
   "cell_type": "markdown",
   "metadata": {},
   "source": [
    "二叉搜索树（BST）：\n",
    "在 BST 中，每个节点的值遵循一个特定的规则：\n",
    "对于每个节点，左子树中所有节点的值都小于该节点的值。\n",
    "对于每个节点，右子树中所有节点的值都大于该节点的值。\n",
    "这使得 BST 中的节点值按顺序排列，左侧值小于根，右侧值大于根。"
   ]
  },
  {
   "cell_type": "code",
   "execution_count": null,
   "metadata": {},
   "outputs": [],
   "source": [
    "# Definition for a binary tree node.\n",
    "# class TreeNode:\n",
    "#     def __init__(self, val=0, left=None, right=None):\n",
    "#         self.val = val\n",
    "#         self.left = left\n",
    "#         self.right = right\n",
    "class Solution:\n",
    "    def searchBST(self, root: Optional[TreeNode], val: int) -> Optional[TreeNode]:\n",
    "        # 使用迭代的方式\n",
    "        current = root\n",
    "        while current:\n",
    "            # 如果找到目标节点\n",
    "            if current.val == val:\n",
    "                return current\n",
    "            # 在左子树中继续搜索\n",
    "            elif val < current.val:\n",
    "                current = current.left\n",
    "            # 在右子树中继续搜索\n",
    "            else:\n",
    "                current = current.right\n",
    "        \n",
    "        # 如果没有找到，返回 None\n",
    "        return None"
   ]
  }
 ],
 "metadata": {
  "language_info": {
   "name": "python"
  }
 },
 "nbformat": 4,
 "nbformat_minor": 2
}
