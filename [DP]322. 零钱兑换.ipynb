{
 "cells": [
  {
   "cell_type": "code",
   "execution_count": null,
   "metadata": {},
   "outputs": [],
   "source": [
    "class Solution:\n",
    "    def coinChange(self, coins: List[int], amount: int) -> int:\n",
    "        # 初始化 DP 数组，大小为 amount + 1，初始值为 amount + 1\n",
    "        dp = [amount + 1] * (amount + 1)\n",
    "        dp[0] = 0  # 凑成金额 0 需要 0 枚硬币\n",
    "        \n",
    "        # 遍历所有金额，计算每个金额所需的最小硬币数\n",
    "        for i in range(1, amount + 1):\n",
    "            for coin in coins:\n",
    "                if i - coin >= 0:  # 如果可以使用该硬币\n",
    "                    dp[i] = min(dp[i], dp[i - coin] + 1)\n",
    "\n",
    "        # 如果 dp[amount] 仍然是初始值，说明无法凑成该金额\n",
    "        return dp[amount] if dp[amount] != amount + 1 else -1   "
   ]
  }
 ],
 "metadata": {
  "language_info": {
   "name": "python"
  }
 },
 "nbformat": 4,
 "nbformat_minor": 2
}
