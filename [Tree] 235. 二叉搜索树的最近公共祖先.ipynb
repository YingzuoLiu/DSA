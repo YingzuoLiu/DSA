{
 "cells": [
  {
   "cell_type": "code",
   "execution_count": null,
   "metadata": {},
   "outputs": [],
   "source": [
    "# Definition for a binary tree node.\n",
    "# class TreeNode:\n",
    "#     def __init__(self, x):\n",
    "#         self.val = x\n",
    "#         self.left = None\n",
    "#         self.right = None\n",
    "\n",
    "class Solution:\n",
    "    def lowestCommonAncestor(self, root: 'TreeNode', p: 'TreeNode', q: 'TreeNode') -> 'TreeNode':\n",
    "        # 遍历树，寻找最近公共祖先\n",
    "        while root:\n",
    "            # 如果 p 和 q 都在 root 的左子树上\n",
    "            if p.val < root.val and q.val < root.val:\n",
    "                root = root.left\n",
    "            # 如果 p 和 q 都在 root 的右子树上\n",
    "            elif p.val > root.val and q.val > root.val:\n",
    "                root = root.right\n",
    "            # 如果 p 和 q 在 root 的两侧，或者有一个等于 root\n",
    "            else:\n",
    "                return root        "
   ]
  }
 ],
 "metadata": {
  "language_info": {
   "name": "python"
  }
 },
 "nbformat": 4,
 "nbformat_minor": 2
}
