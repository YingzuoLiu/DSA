{
 "cells": [
  {
   "cell_type": "code",
   "execution_count": null,
   "metadata": {},
   "outputs": [],
   "source": [
    "class Solution:\n",
    "    def maxFreq(self, s: str, maxLetters: int, minSize: int, maxSize: int) -> int:\n",
    "        # 用于记录每个子串出现的次数\n",
    "        substring_count = defaultdict(int)\n",
    "        \n",
    "        # 遍历所有长度为 minSize 的子串\n",
    "        for i in range(len(s) - minSize + 1):\n",
    "            # 取长度为 minSize 的子串\n",
    "            substring = s[i:i + minSize]\n",
    "            \n",
    "            # 检查不同字符的数量\n",
    "            if len(set(substring)) <= maxLetters:\n",
    "                substring_count[substring] += 1\n",
    "        \n",
    "        # 返回出现次数的最大值\n",
    "        return max(substring_count.values(), default=0)        "
   ]
  }
 ],
 "metadata": {
  "language_info": {
   "name": "python"
  }
 },
 "nbformat": 4,
 "nbformat_minor": 2
}
