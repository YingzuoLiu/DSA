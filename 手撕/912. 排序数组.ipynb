{
 "cells": [
  {
   "cell_type": "code",
   "execution_count": null,
   "metadata": {},
   "outputs": [],
   "source": [
    "def merge_sort(nums):\n",
    "    # 定义合并函数，将两个有序子数组合并为一个有序数组\n",
    "    def merge(left, right):\n",
    "        sorted_array = []  # 用于存储合并后的结果\n",
    "        i, j = 0, 0  # 双指针初始化\n",
    "        # 比较两个子数组中的元素，按升序加入结果数组\n",
    "        while i < len(left) and j < len(right):\n",
    "            if left[i] <= right[j]:\n",
    "                sorted_array.append(left[i])\n",
    "                i += 1\n",
    "            else:\n",
    "                sorted_array.append(right[j])\n",
    "                j += 1\n",
    "        # 将剩余的元素加入结果数组\n",
    "        sorted_array.extend(left[i:])\n",
    "        sorted_array.extend(right[j:])\n",
    "        return sorted_array\n",
    "\n",
    "    # 定义递归拆分函数\n",
    "    def merge_sort_recursive(arr):\n",
    "        # 如果数组长度为1或0，直接返回（递归出口）\n",
    "        if len(arr) <= 1:\n",
    "            return arr\n",
    "        # 拆分数组为左右两部分\n",
    "        mid = len(arr) // 2\n",
    "        left = merge_sort_recursive(arr[:mid])  # 左半部分\n",
    "        right = merge_sort_recursive(arr[mid:])  # 右半部分\n",
    "        # 合并左右两部分\n",
    "        return merge(left, right)\n",
    "\n",
    "    # 调用递归函数\n",
    "    return merge_sort_recursive(nums)\n"
   ]
  },
  {
   "cell_type": "markdown",
   "metadata": {},
   "source": [
    "Initial: [5, 2, 3, 1]\n",
    "\n",
    "Step 1: Split into [5, 2] and [3, 1]\n",
    "Step 2: Split [5, 2] -> [5] and [2]\n",
    "Step 3: Split [3, 1] -> [3] and [1]\n",
    "\n",
    "Step 4: Merge [5] and [2] -> [2, 5]\n",
    "Step 5: Merge [3] and [1] -> [1, 3]\n",
    "Step 6: Merge [2, 5] and [1, 3] -> [1, 2, 3, 5]\n",
    "\n",
    "Final Result: [1, 2, 3, 5]\n"
   ]
  }
 ],
 "metadata": {
  "language_info": {
   "name": "python"
  }
 },
 "nbformat": 4,
 "nbformat_minor": 2
}
