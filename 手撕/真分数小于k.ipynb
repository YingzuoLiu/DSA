{
 "cells": [
  {
   "cell_type": "markdown",
   "metadata": {},
   "source": [
    "一个质数数组和一个数k，从数组中选两个数组成真分数，问有多少总组合方式大于k\n"
   ]
  },
  {
   "cell_type": "code",
   "execution_count": null,
   "metadata": {},
   "outputs": [],
   "source": [
    "from typing import List\n",
    "from itertools import combinations\n",
    "\n",
    "def count_fractions_greater_than_k(primes: List[int], k: float) -> int:\n",
    "    # 排序质数数组\n",
    "    primes.sort()\n",
    "    count = 0\n",
    "\n",
    "    # 遍历所有不同的两数组合 (a, b)\n",
    "    for a, b in combinations(primes, 2):\n",
    "        # 判断是否为真分数且大于 k\n",
    "        if a < b and a / b > k:\n",
    "            count += 1\n",
    "\n",
    "    return count\n",
    "\n",
    "\n",
    "primes = [2, 3, 5, 7, 11]\n",
    "k = 0.4\n",
    "print(count_fractions_greater_than_k(primes, k)) \n"
   ]
  }
 ],
 "metadata": {
  "language_info": {
   "name": "python"
  }
 },
 "nbformat": 4,
 "nbformat_minor": 2
}
