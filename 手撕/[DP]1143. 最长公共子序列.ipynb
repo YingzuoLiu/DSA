{
 "cells": [
  {
   "cell_type": "markdown",
   "metadata": {},
   "source": [
    "**思路**\n",
    " \n",
    "1. 定义 DP 数组： \n",
    "\n",
    "- 使用二维 DP 数组 dp[i][j] 表示字符串 text1 前 i 个字符与字符串 text2 前 j 个字符的最长公共子序列长度。 \n",
    "\n",
    "2. 状态转移方程：\n",
    "\n",
    "- 如果 text1[i-1] == text2[j-1]，则 dp[i][j] = dp[i-1][j-1] + 1，表示该字符匹配，可以增加公共子序列长度。\n",
    "- 如果 text1[i-1] != text2[j-1]，则 dp[i][j] = max(dp[i-1][j], dp[i][j-1])，表示跳过当前字符的情况中，最长的那个子序列。\n",
    "\n",
    "3. 初始化：\n",
    "\n",
    "- dp[0][j] = 0，dp[i][0] = 0，表示其中一个字符串为空时，公共子序列长度为 0。\n",
    "\n",
    "4. 返回结果：\n",
    "\n",
    "- dp[m][n] 即为最终结果，表示 text1 和 text2 的最长公共子序列的长度。"
   ]
  },
  {
   "cell_type": "code",
   "execution_count": null,
   "metadata": {},
   "outputs": [],
   "source": [
    "class Solution:\n",
    "    def longestCommonSubsequence(self, text1: str, text2: str) -> int:\n",
    "        m, n = len(text1), len(text2)\n",
    "        # 初始化 DP 表，大小为 (m+1) x (n+1)，全部初始为 0\n",
    "        dp = [[0] * (n + 1) for _ in range(m + 1)]\n",
    "        \n",
    "        # 填充 DP 表\n",
    "        for i in range(1, m + 1):\n",
    "            for j in range(1, n + 1):\n",
    "                if text1[i - 1] == text2[j - 1]:  # 如果字符相同\n",
    "                    dp[i][j] = dp[i - 1][j - 1] + 1\n",
    "                else:  # 如果字符不同，取较大的子序列长度\n",
    "                    dp[i][j] = max(dp[i - 1][j], dp[i][j - 1])\n",
    "        \n",
    "        return dp[m][n] "
   ]
  }
 ],
 "metadata": {
  "language_info": {
   "name": "python"
  }
 },
 "nbformat": 4,
 "nbformat_minor": 2
}
