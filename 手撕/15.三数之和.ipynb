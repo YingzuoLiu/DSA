{
 "cells": [
  {
   "cell_type": "code",
   "execution_count": 2,
   "metadata": {},
   "outputs": [],
   "source": [
    "from typing import List\n",
    "\n",
    "class Solution:\n",
    "    def threeSum(self, nums: List[int]) -> List[List[int]]:\n",
    "        # 先对数组进行排序\n",
    "        nums.sort()\n",
    "        result = []\n",
    "\n",
    "        # 遍历数组，尝试以每个元素作为三元组中的第一个数\n",
    "        for i in range(len(nums) - 2):\n",
    "            # 如果当前数字和上一个数字相同，跳过以避免重复结果\n",
    "            if i > 0 and nums[i] == nums[i - 1]:\n",
    "                continue\n",
    "\n",
    "            # 初始化双指针\n",
    "            left, right = i + 1, len(nums) - 1\n",
    "\n",
    "            # 开始查找和为 0 的三元组\n",
    "            while left < right:\n",
    "                total = nums[i] + nums[left] + nums[right]\n",
    "                \n",
    "                if total == 0:\n",
    "                    result.append([nums[i], nums[left], nums[right]])\n",
    "                    \n",
    "                    # 跳过重复的左指针元素\n",
    "                    while left < right and nums[left] == nums[left + 1]:\n",
    "                        left += 1\n",
    "                    # 跳过重复的右指针元素\n",
    "                    while left < right and nums[right] == nums[right - 1]:\n",
    "                        right -= 1\n",
    "                    \n",
    "                    # 移动指针\n",
    "                    left += 1\n",
    "                    right -= 1\n",
    "                elif total < 0:\n",
    "                    left += 1\n",
    "                else:\n",
    "                    right -= 1\n",
    "\n",
    "        return result\n"
   ]
  },
  {
   "cell_type": "code",
   "execution_count": null,
   "metadata": {},
   "outputs": [],
   "source": [
    "def two_sum(nums: List[int], k: int) -> List[List[int]]:\n",
    "    nums.sort()  # 排序数组\n",
    "    left, right = 0, len(nums) - 1\n",
    "    result = []\n",
    "    \n",
    "    while left < right:\n",
    "        total = nums[left] + nums[right]\n",
    "        if total == k:\n",
    "            result.append([nums[left], nums[right]])\n",
    "            # 跳过重复元素\n",
    "            while left < right and nums[left] == nums[left + 1]:\n",
    "                left += 1\n",
    "            while left < right and nums[right] == nums[right - 1]:\n",
    "                right -= 1\n",
    "            left += 1\n",
    "            right -= 1\n",
    "        elif total < k:\n",
    "            # 当前和小于目标值 k，需要更大的数字，因此移动左指针\n",
    "            left += 1\n",
    "            #当前和大于目标值 k，需要更小的数字，因此移动右指针\n",
    "        else:\n",
    "            right -= 1\n",
    "    \n",
    "    return result"
   ]
  },
  {
   "cell_type": "code",
   "execution_count": 4,
   "metadata": {},
   "outputs": [
    {
     "name": "stdout",
     "output_type": "stream",
     "text": [
      "[[0, 4], [1, 3], [2, 2]]\n"
     ]
    }
   ],
   "source": [
    "nums = [1, 2, 3, 4, 3, 2, -1, 0]\n",
    "k = 4\n",
    "print(two_sum(nums, k))"
   ]
  },
  {
   "cell_type": "markdown",
   "metadata": {},
   "source": [
    "左指针向右移动时，总和变大。\n",
    "右指针向左移动时，总和变小。\n",
    "循环条件是 left < right，即当两个指针交叉时停止。"
   ]
  }
 ],
 "metadata": {
  "kernelspec": {
   "display_name": "Python 3",
   "language": "python",
   "name": "python3"
  },
  "language_info": {
   "codemirror_mode": {
    "name": "ipython",
    "version": 3
   },
   "file_extension": ".py",
   "mimetype": "text/x-python",
   "name": "python",
   "nbconvert_exporter": "python",
   "pygments_lexer": "ipython3",
   "version": "3.11.4"
  }
 },
 "nbformat": 4,
 "nbformat_minor": 2
}
