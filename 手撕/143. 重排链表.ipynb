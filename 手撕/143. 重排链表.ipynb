{
 "cells": [
  {
   "cell_type": "code",
   "execution_count": 1,
   "metadata": {},
   "outputs": [],
   "source": [
    "class ListNode:\n",
    "    def __init__(self, val=0, next=None):\n",
    "        self.val = val\n",
    "        self.next = next\n",
    "\n",
    "class Solution:\n",
    "    def reorderList(self, head: ListNode) -> None:\n",
    "        if not head or not head.next:\n",
    "            return\n",
    "        \n",
    "        # Step 1: Use two pointers to find the middle of the list\n",
    "        slow, fast = head, head\n",
    "        while fast and fast.next:\n",
    "            slow = slow.next\n",
    "            fast = fast.next.next\n",
    "        \n",
    "        # Step 2: Reverse the second half of the list\n",
    "        prev, curr = None, slow\n",
    "        while curr:\n",
    "            next_temp = curr.next\n",
    "            curr.next = prev\n",
    "            prev = curr\n",
    "            curr = next_temp\n",
    "            \n",
    "        # Step 3: Merge the two halves\n",
    "        first, second = head, prev\n",
    "        while second.next:\n",
    "            temp1, temp2 = first.next, second.next\n",
    "            first.next = second\n",
    "            second.next = temp1\n",
    "            first, second = temp1, temp2\n"
   ]
  },
  {
   "cell_type": "code",
   "execution_count": 2,
   "metadata": {},
   "outputs": [
    {
     "name": "stdout",
     "output_type": "stream",
     "text": [
      "1 -> 5 -> 2 -> 4 -> 3 -> "
     ]
    }
   ],
   "source": [
    "# 构建示例链表\n",
    "head = ListNode(1, ListNode(2, ListNode(3, ListNode(4, ListNode(5)))))\n",
    "solution = Solution()\n",
    "solution.reorderList(head)\n",
    "\n",
    "node = head\n",
    "while node:\n",
    "    print(node.val, end=\" -> \")\n",
    "    node = node.next\n"
   ]
  },
  {
   "cell_type": "markdown",
   "metadata": {},
   "source": []
  }
 ],
 "metadata": {
  "kernelspec": {
   "display_name": "Python 3",
   "language": "python",
   "name": "python3"
  },
  "language_info": {
   "codemirror_mode": {
    "name": "ipython",
    "version": 3
   },
   "file_extension": ".py",
   "mimetype": "text/x-python",
   "name": "python",
   "nbconvert_exporter": "python",
   "pygments_lexer": "ipython3",
   "version": "3.11.4"
  }
 },
 "nbformat": 4,
 "nbformat_minor": 2
}
