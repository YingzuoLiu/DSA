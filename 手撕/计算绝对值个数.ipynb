{
 "cells": [
  {
   "cell_type": "markdown",
   "metadata": {},
   "source": [
    "给定一个整形数组，数组是升序排列的，可能存在负数，统计数组中所有不同绝对值的元素的个数。"
   ]
  },
  {
   "cell_type": "code",
   "execution_count": null,
   "metadata": {},
   "outputs": [],
   "source": [
    "def count_unique_abs_values(arr):\n",
    "    left, right = 0, len(arr) - 1\n",
    "    unique_abs_values = set()\n",
    "    \n",
    "    while left <= right:\n",
    "        left_abs, right_abs = abs(arr[left]), abs(arr[right])\n",
    "        \n",
    "        # 绝对值相同的情况\n",
    "        if left_abs == right_abs:\n",
    "            unique_abs_values.add(left_abs)\n",
    "            left += 1\n",
    "            right -= 1\n",
    "        # 左指针对应的绝对值更大的情况\n",
    "        elif left_abs > right_abs:\n",
    "            unique_abs_values.add(left_abs)\n",
    "            left += 1\n",
    "        # 右指针对应的绝对值更大的情况\n",
    "        else:\n",
    "            unique_abs_values.add(right_abs)\n",
    "            right -= 1\n",
    "            \n",
    "    return len(unique_abs_values)\n"
   ]
  }
 ],
 "metadata": {
  "language_info": {
   "name": "python"
  }
 },
 "nbformat": 4,
 "nbformat_minor": 2
}
