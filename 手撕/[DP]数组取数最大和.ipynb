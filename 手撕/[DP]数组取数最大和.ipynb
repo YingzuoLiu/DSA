{
 "cells": [
  {
   "cell_type": "code",
   "execution_count": 1,
   "metadata": {},
   "outputs": [],
   "source": [
    "from collections import Counter\n",
    "\n",
    "def max_sum_no_adjacent(nums):\n",
    "    # 统计每个数的总和\n",
    "    freq = Counter(nums)\n",
    "    max_num = max(freq)  # 数组中最大的数\n",
    "    \n",
    "    # 处理数组中每个数字的点数\n",
    "    sum_points = [0] * (max_num + 1)\n",
    "    for num, count in freq.items():\n",
    "        sum_points[num] = num * count\n",
    "    \n",
    "    # 动态规划，dp[i] 表示从数字 0 到 i 能取得的最大和\n",
    "    dp = [0] * (max_num + 1)\n",
    "    dp[1] = sum_points[1]\n",
    "    \n",
    "    for i in range(2, max_num + 1):\n",
    "        dp[i] = max(dp[i-1], dp[i-2] + sum_points[i])\n",
    "    \n",
    "    return dp[max_num]\n",
    "\n"
   ]
  },
  {
   "cell_type": "code",
   "execution_count": 2,
   "metadata": {},
   "outputs": [
    {
     "name": "stdout",
     "output_type": "stream",
     "text": [
      "6\n"
     ]
    }
   ],
   "source": [
    "nums = [3, 4, 2]\n",
    "print(max_sum_no_adjacent(nums))  "
   ]
  }
 ],
 "metadata": {
  "kernelspec": {
   "display_name": "Python 3",
   "language": "python",
   "name": "python3"
  },
  "language_info": {
   "codemirror_mode": {
    "name": "ipython",
    "version": 3
   },
   "file_extension": ".py",
   "mimetype": "text/x-python",
   "name": "python",
   "nbconvert_exporter": "python",
   "pygments_lexer": "ipython3",
   "version": "3.11.4"
  }
 },
 "nbformat": 4,
 "nbformat_minor": 2
}
