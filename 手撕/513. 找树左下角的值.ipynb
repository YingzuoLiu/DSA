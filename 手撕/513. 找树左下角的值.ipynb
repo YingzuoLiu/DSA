{
 "cells": [
  {
   "cell_type": "code",
   "execution_count": null,
   "metadata": {},
   "outputs": [],
   "source": [
    "from collections import deque\n",
    "\n",
    "# 定义树节点\n",
    "class TreeNode:\n",
    "    def __init__(self, val=0, left=None, right=None):\n",
    "        self.val = val\n",
    "        self.left = left\n",
    "        self.right = right\n",
    "\n",
    "class Solution:\n",
    "    def findBottomLeftValue(self, root: TreeNode) -> int:\n",
    "        queue = deque([root])\n",
    "        bottom_left = root.val\n",
    "        \n",
    "        # 使用 BFS 层序遍历\n",
    "        while queue:\n",
    "            # 当前层第一个节点的值就是本层的最左值\n",
    "            bottom_left = queue[0].val\n",
    "            \n",
    "            # 遍历当前层节点并将子节点入队\n",
    "            for _ in range(len(queue)):\n",
    "                node = queue.popleft()\n",
    "                # 左子节点优先入队\n",
    "                if node.left:\n",
    "                    queue.append(node.left)\n",
    "                if node.right:\n",
    "                    queue.append(node.right)\n",
    "        \n",
    "        return bottom_left\n"
   ]
  }
 ],
 "metadata": {
  "language_info": {
   "name": "python"
  }
 },
 "nbformat": 4,
 "nbformat_minor": 2
}
