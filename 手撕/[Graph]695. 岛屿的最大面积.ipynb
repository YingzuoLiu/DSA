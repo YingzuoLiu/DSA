{
 "cells": [
  {
   "cell_type": "code",
   "execution_count": null,
   "metadata": {},
   "outputs": [],
   "source": [
    "class Solution:\n",
    "    def maxAreaOfIsland(self, grid: List[List[int]]) -> int:\n",
    "        # 获取矩阵的行数和列数\n",
    "        rows, cols = len(grid), len(grid[0])\n",
    "\n",
    "        # 定义 DFS 函数，计算当前岛屿的面积\n",
    "        def dfs(r, c):\n",
    "            # 如果超出边界或者当前位置不是岛屿(值为0)，直接返回面积0\n",
    "            if r < 0 or r >= rows or c < 0 or c >= cols or grid[r][c] == 0:\n",
    "                return 0\n",
    "            \n",
    "            # 将当前格子标记为已访问（将1变为0）\n",
    "            grid[r][c] = 0\n",
    "            \n",
    "            # 计算面积，初始面积为1，当前格子本身\n",
    "            area = 1\n",
    "            \n",
    "            # 继续向上下左右方向搜索，累加相邻格子的面积\n",
    "            area += dfs(r - 1, c)  # 上\n",
    "            area += dfs(r + 1, c)  # 下\n",
    "            area += dfs(r, c - 1)  # 左\n",
    "            area += dfs(r, c + 1)  # 右\n",
    "            \n",
    "            return area\n",
    "\n",
    "        # 初始化最大面积为0\n",
    "        max_area = 0\n",
    "\n",
    "        # 遍历每个格子，找到所有岛屿\n",
    "        for r in range(rows):\n",
    "            for c in range(cols):\n",
    "                # 如果当前格子是岛屿（值为1），计算岛屿面积并更新最大面积\n",
    "                if grid[r][c] == 1:\n",
    "                    max_area = max(max_area, dfs(r, c))\n",
    "        \n",
    "        # 返回最大岛屿面积\n",
    "        return max_area\n",
    "       "
   ]
  }
 ],
 "metadata": {
  "language_info": {
   "name": "python"
  }
 },
 "nbformat": 4,
 "nbformat_minor": 2
}
