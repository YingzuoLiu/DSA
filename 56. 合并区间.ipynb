{
 "cells": [
  {
   "cell_type": "code",
   "execution_count": null,
   "metadata": {},
   "outputs": [],
   "source": [
    "class Solution:\n",
    "    def merge(self, intervals: List[List[int]]) -> List[List[int]]:\n",
    "        if not intervals:\n",
    "            return []\n",
    "        \n",
    "        # 将区间按起始位置进行排序\n",
    "        intervals.sort(key=lambda x: x[0])\n",
    "        \n",
    "        # 初始化合并后的区间列表\n",
    "        merged = []\n",
    "        \n",
    "        # 遍历每个区间\n",
    "        for interval in intervals:\n",
    "            # 如果 merged 为空，或者当前区间的起始位置 > merged 最后一个区间的结束位置，则直接添加当前区间\n",
    "            if not merged or merged[-1][1] < interval[0]:\n",
    "                merged.append(interval)\n",
    "            else:\n",
    "                # 否则，更新已合并的最后一个区间的结束位置\n",
    "                merged[-1][1] = max(merged[-1][1], interval[1])\n",
    "        \n",
    "        return merged "
   ]
  },
  {
   "cell_type": "markdown",
   "metadata": {},
   "source": [
    "intervals = [[1, 3], [2, 6], [8, 10]]\n",
    "\n",
    "第一个区间 [1, 3]：\n",
    "\n",
    "merged 是空的，所以直接把 [1, 3] 加入 merged。\n",
    "merged = [[1, 3]]\n",
    "第二个区间 [2, 6]：\n",
    "\n",
    "merged[-1][1] = 3，interval[0] = 2，因为 3 >= 2，说明 [1, 3] 和 [2, 6] 是重叠的。\n",
    "我们用 max(3, 6) 来更新 merged 中最后一个区间的结束位置，所以现在 merged = [[1, 6]]。\n",
    "第三个区间 [8, 10]：\n",
    "\n",
    "merged[-1][1] = 6，interval[0] = 8，因为 6 < 8，说明 [1, 6] 和 [8, 10] 不重叠。\n",
    "所以我们将 [8, 10] 直接添加到 merged 中。\n",
    "merged = [[1, 6], [8, 10]]。\n",
    "最终的结果是 [[1, 6], [8, 10]]，这就是合并后的区间列表。"
   ]
  }
 ],
 "metadata": {
  "language_info": {
   "name": "python"
  }
 },
 "nbformat": 4,
 "nbformat_minor": 2
}
