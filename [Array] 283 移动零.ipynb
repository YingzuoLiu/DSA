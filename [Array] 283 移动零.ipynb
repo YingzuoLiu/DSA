{
 "cells": [
  {
   "cell_type": "code",
   "execution_count": null,
   "metadata": {},
   "outputs": [],
   "source": [
    "class Solution:\n",
    "    def moveZeroes(self, nums: List[int]) -> None:\n",
    "        \"\"\"\n",
    "        Do not return anything, modify nums in-place instead.\n",
    "        \"\"\"\n",
    "\n",
    "        zero_count = nums.count(0)\n",
    "        \n",
    "        # 删除所有的0\n",
    "        nums[:] = [num for num in nums if num != 0]\n",
    "        \n",
    "        # 将之前删除的0添加到数组的末尾\n",
    "        nums.extend([0] * zero_count)"
   ]
  }
 ],
 "metadata": {
  "language_info": {
   "name": "python"
  }
 },
 "nbformat": 4,
 "nbformat_minor": 2
}
