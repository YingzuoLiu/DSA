{
 "cells": [
  {
   "cell_type": "code",
   "execution_count": null,
   "metadata": {},
   "outputs": [],
   "source": [
    "class Solution:\n",
    "    def longestPalindrome(self, s: str) -> str:\n",
    "        # 边界情况\n",
    "        if not s or len(s) == 1:\n",
    "            return s\n",
    "        \n",
    "        # 记录最长回文子串的起始和结束位置\n",
    "        start, end = 0, 0\n",
    "        \n",
    "        # 中心扩展法\n",
    "        for i in range(len(s)):\n",
    "            # 以单个字符为中心扩展（odd length）\n",
    "            len1 = self.expandAroundCenter(s, i, i)\n",
    "            # 以两个相邻字符为中心扩展（even length）\n",
    "            len2 = self.expandAroundCenter(s, i, i + 1)\n",
    "            \n",
    "            # 选择较大的长度\n",
    "            max_len = max(len1, len2)\n",
    "            \n",
    "            # 更新起始和结束位置\n",
    "            if max_len > end - start:\n",
    "                start = i - (max_len - 1) // 2\n",
    "                end = i + max_len // 2\n",
    "        \n",
    "        return s[start:end + 1]\n",
    "    \n",
    "    def expandAroundCenter(self, s, left, right):\n",
    "        # 向左右扩展\n",
    "        while left >= 0 and right < len(s) and s[left] == s[right]:\n",
    "            left -= 1\n",
    "            right += 1\n",
    "        return right - left - 1     "
   ]
  }
 ],
 "metadata": {
  "language_info": {
   "name": "python"
  }
 },
 "nbformat": 4,
 "nbformat_minor": 2
}
