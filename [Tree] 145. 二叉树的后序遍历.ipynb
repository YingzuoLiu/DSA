{
 "cells": [
  {
   "cell_type": "code",
   "execution_count": null,
   "metadata": {},
   "outputs": [],
   "source": [
    "# Definition for a binary tree node.\n",
    "# class TreeNode:\n",
    "#     def __init__(self, val=0, left=None, right=None):\n",
    "#         self.val = val\n",
    "#         self.left = left\n",
    "#         self.right = right\n",
    "class Solution:\n",
    "    def postorderTraversal(self, root: Optional[TreeNode]) -> List[int]:\n",
    "        result = []\n",
    "        self._postorder(root, result)\n",
    "        return result\n",
    "    \n",
    "    def _postorder(self, node: Optional[TreeNode], result: List[int]):\n",
    "        if node:\n",
    "            # 1. 递归遍历左子树\n",
    "            self._postorder(node.left, result)\n",
    "            # 2. 递归遍历右子树\n",
    "            self._postorder(node.right, result)\n",
    "            # 3. 访问当前节点\n",
    "            result.append(node.val)"
   ]
  }
 ],
 "metadata": {
  "language_info": {
   "name": "python"
  }
 },
 "nbformat": 4,
 "nbformat_minor": 2
}
