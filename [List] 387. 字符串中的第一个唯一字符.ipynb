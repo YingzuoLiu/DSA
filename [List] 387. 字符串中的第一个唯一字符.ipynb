{
 "cells": [
  {
   "cell_type": "code",
   "execution_count": null,
   "metadata": {},
   "outputs": [],
   "source": [
    "class Solution:\n",
    "    def firstUniqChar(self, s: str) -> int:\n",
    "        # 使用哈希表统计每个字符的出现次数\n",
    "        count = {}\n",
    "        for char in s:\n",
    "            if char in count:\n",
    "                count[char] += 1\n",
    "            else:\n",
    "                count[char] = 1\n",
    "        \n",
    "        # 再次遍历字符串，找到第一个出现次数为1的字符\n",
    "        for i, char in enumerate(s):\n",
    "            if count[char] == 1:\n",
    "                return i\n",
    "        \n",
    "        # 如果没有找到不重复的字符，返回 -1\n",
    "        return -1\n"
   ]
  }
 ],
 "metadata": {
  "language_info": {
   "name": "python"
  }
 },
 "nbformat": 4,
 "nbformat_minor": 2
}
