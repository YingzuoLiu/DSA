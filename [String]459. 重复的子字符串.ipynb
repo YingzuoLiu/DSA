{
 "cells": [
  {
   "cell_type": "code",
   "execution_count": null,
   "metadata": {},
   "outputs": [],
   "source": [
    "class Solution:\n",
    "    def repeatedSubstringPattern(self, s: str) -> bool:\n",
    "        # 获取字符串的长度\n",
    "        n = len(s)\n",
    "        \n",
    "        # 遍历可能的子串长度\n",
    "        for i in range(1, n // 2 + 1):\n",
    "            # 如果长度可以整除原字符串长度\n",
    "            if n % i == 0:\n",
    "                # 取出子串\n",
    "                substring = s[:i]\n",
    "                # 将子串重复多次，看是否等于原字符串\n",
    "                if substring * (n // i) == s:\n",
    "                    return True\n",
    "        \n",
    "        return False"
   ]
  }
 ],
 "metadata": {
  "language_info": {
   "name": "python"
  }
 },
 "nbformat": 4,
 "nbformat_minor": 2
}
