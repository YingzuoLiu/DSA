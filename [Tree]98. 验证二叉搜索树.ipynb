{
 "cells": [
  {
   "cell_type": "code",
   "execution_count": null,
   "metadata": {},
   "outputs": [],
   "source": [
    "# Definition for a binary tree node.\n",
    "# class TreeNode:\n",
    "#     def __init__(self, val=0, left=None, right=None):\n",
    "#         self.val = val\n",
    "#         self.left = left\n",
    "#         self.right = right\n",
    "class Solution:\n",
    "    def isValidBST(self, root: Optional[TreeNode]) -> bool:\n",
    "        def validate(node, min_val, max_val):\n",
    "            if not node:\n",
    "                return True\n",
    "            \n",
    "            # 检查当前节点的值是否在范围内\n",
    "            if not (min_val < node.val < max_val):\n",
    "                return False\n",
    "            \n",
    "            # 递归检查左子树和右子树\n",
    "            return (validate(node.left, min_val, node.val) and\n",
    "                    validate(node.right, node.val, max_val))\n",
    "        \n",
    "        # 初始范围为负无穷到正无穷\n",
    "        return validate(root, float('-inf'), float('inf'))"
   ]
  },
  {
   "cell_type": "markdown",
   "metadata": {},
   "source": [
    "实现思路\n",
    "通过递归遍历二叉树，同时传递一个范围（min_val 和 max_val），来确保每个节点的值都在这个范围内：\n",
    "\n",
    "初始条件：对于根节点，min_val 和 max_val 可以分别设置为负无穷和正无穷。\n",
    "递归检查：\n",
    "对于当前节点 node，我们检查它的值 node.val 是否在 min_val 和 max_val 之间。\n",
    "如果 node.val 不在这个范围内，说明这个节点违反了二叉搜索树的性质，函数直接返回 False。\n",
    "如果当前节点值在范围内，那么我们递归地检查它的左子树和右子树：\n",
    "左子树：对于 node.left，我们更新 max_val 为当前节点的值 node.val，并递归调用 validate(node.left, min_val, node.val)。这确保了左子树的所有节点都小于当前节点的值。\n",
    "右子树：对于 node.right，我们更新 min_val 为当前节点的值 node.val，并递归调用 validate(node.right, node.val, max_val)。这确保了右子树的所有节点都大于当前节点的值。"
   ]
  }
 ],
 "metadata": {
  "language_info": {
   "name": "python"
  }
 },
 "nbformat": 4,
 "nbformat_minor": 2
}
