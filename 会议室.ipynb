{
 "cells": [
  {
   "cell_type": "code",
   "execution_count": null,
   "id": "91ce5bdd",
   "metadata": {},
   "outputs": [],
   "source": [
    "class Solution:\n",
    "    def canAttendMeetings(self, intervals: List[List[int]]) -> bool:\n",
    "        intervals.sort(key=lambda x: x[0])  # 按开始时间排序\n",
    "        for i in range(1, len(intervals)):\n",
    "            if intervals[i][0] < intervals[i - 1][1]:\n",
    "                return False\n",
    "        return True\n"
   ]
  }
 ],
 "metadata": {
  "language_info": {
   "name": "python"
  }
 },
 "nbformat": 4,
 "nbformat_minor": 5
}
