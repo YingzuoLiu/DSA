{
 "cells": [
  {
   "cell_type": "markdown",
   "metadata": {},
   "source": [
    "i 和 j 通常在处理二维网格（如矩阵或图）时，表示网格中的行和列的索引。它们用于定位网格中的某个特定单元格。\n",
    "len(grid)：表示网格的行数\n",
    "len(grid[0])：表示网格的列数"
   ]
  },
  {
   "cell_type": "markdown",
   "metadata": {},
   "source": [
    "DFS"
   ]
  },
  {
   "cell_type": "code",
   "execution_count": 2,
   "metadata": {},
   "outputs": [],
   "source": [
    "from typing import List\n",
    "class Solution:\n",
    "    def numIslands(self, grid: List[List[str]]) -> int:\n",
    "        if not grid:\n",
    "            return 0\n",
    "        \n",
    "        def dfs(i, j):\n",
    "            # 判断越界或当前不是陆地\n",
    "            if i < 0 or i >= len(grid) or j < 0 or j >= len(grid[0]) or grid[i][j] == '0':\n",
    "                return\n",
    "            # 标记当前陆地为 '0'，表示已经访问过\n",
    "            grid[i][j] = '0'\n",
    "            # 递归遍历相邻的陆地\n",
    "            dfs(i-1, j)  # 上\n",
    "            dfs(i+1, j)  # 下\n",
    "            dfs(i, j-1)  # 左\n",
    "            dfs(i, j+1)  # 右\n",
    "        \n",
    "        num_islands = 0\n",
    "        # 遍历整个网格\n",
    "        for i in range(len(grid)):\n",
    "            for j in range(len(grid[0])):\n",
    "                if grid[i][j] == '1':\n",
    "                    # 每遇到一个新的岛屿（'1'），岛屿数量加 1\n",
    "                    num_islands += 1\n",
    "                    # 使用 DFS 将这个岛屿所有相连的 '1' 都标记为 '0'\n",
    "                    dfs(i, j)\n",
    "        \n",
    "        return num_islands\n"
   ]
  },
  {
   "cell_type": "code",
   "execution_count": 4,
   "metadata": {},
   "outputs": [
    {
     "name": "stdout",
     "output_type": "stream",
     "text": [
      "3\n"
     ]
    }
   ],
   "source": [
    "grid = [\n",
    "    [\"1\", \"1\", \"0\", \"0\", \"0\"],\n",
    "    [\"1\", \"1\", \"0\", \"0\", \"0\"],\n",
    "    [\"0\", \"0\", \"1\", \"0\", \"0\"],\n",
    "    [\"0\", \"0\", \"0\", \"1\", \"1\"]\n",
    "]\n",
    "solution = Solution()\n",
    "print(solution.numIslands(grid))"
   ]
  },
  {
   "cell_type": "markdown",
   "metadata": {},
   "source": [
    "思路：\n",
    "遍历网格：\n",
    "\n",
    "对每一个格子进行遍历，如果找到一个陆地（即 '1'），就触发 DFS，从这个陆地开始，将与它直接或间接相连的所有陆地（即邻接的 '1'）都标记为 '0'。\n",
    "DFS递归“淹没”整个岛屿：\n",
    "\n",
    "从当前发现的陆地出发，递归地访问上下左右相邻的格子，凡是遇到 '1' 的格子，就将其标记为 '0'，表示已经处理过这块区域。\n",
    "这就相当于“淹没”了整片岛屿，因为我们通过 DFS扩展搜索，把这个岛屿的所有陆地（相连的 '1'）都访问一遍并标记为 '0'。\n",
    "计数岛屿：\n",
    "\n",
    "每次触发一个 DFS（即找到一个新的陆地），就意味着发现了一个新的岛屿。每当这个岛屿的所有部分被淹没完后，岛屿的计数器加一。\n",
    "逻辑过程：\n",
    "遍历整个网格：\n",
    "\n",
    "遍历每一个位置 (i, j)。\n",
    "如果当前位置是 '1'，就意味着发现了一个岛屿的开始。此时：\n",
    "调用 DFS 函数，递归地访问它所有相连的陆地。\n",
    "并将这些陆地全部标记为 '0'，表示它们已经访问过。\n",
    "DFS 函数的作用：\n",
    "\n",
    "递归地遍历上下左右相邻的格子：\n",
    "如果当前格子是陆地 '1'，继续向四个方向扩展递归。\n",
    "在递归过程中不断把相连的陆地格子标记为 '0'，避免重复访问。\n",
    "停止条件：\n",
    "如果格子越界（行或列小于0或大于网格范围），或者当前格子是水 '0'，就返回，不再继续递归。"
   ]
  },
  {
   "cell_type": "markdown",
   "metadata": {},
   "source": [
    "BFS"
   ]
  },
  {
   "cell_type": "code",
   "execution_count": null,
   "metadata": {},
   "outputs": [],
   "source": [
    "from collections import deque\n",
    "\n",
    "class Solution:\n",
    "    def numIslands(self, grid: List[List[str]]) -> int:\n",
    "        if not grid:\n",
    "            return 0\n",
    "        \n",
    "        def bfs(i, j):\n",
    "            # 创建一个队列，首先把当前的陆地位置加入队列\n",
    "            queue = deque([(i, j)])\n",
    "            while queue:\n",
    "                x, y = queue.popleft() # 取出队列中的当前坐标\n",
    "                # 检查四个方向\n",
    "                for dx, dy in [(-1, 0), (1, 0), (0, -1), (0, 1)]:\n",
    "                    nx, ny = x + dx, y + dy\n",
    "                    if 0 <= nx < len(grid) and 0 <= ny < len(grid[0]) and grid[nx][ny] == '1':\n",
    "                        # 将这个陆地标记为 '0' 并加入队列\n",
    "                        grid[nx][ny] = '0'\n",
    "                        queue.append((nx, ny))\n",
    "        \n",
    "        num_islands = 0\n",
    "        # 遍历整个网格\n",
    "        for i in range(len(grid)):\n",
    "            for j in range(len(grid[0])):\n",
    "                if grid[i][j] == '1':\n",
    "                    # 每遇到一个新的岛屿（'1'），岛屿数量加 1\n",
    "                    num_islands += 1\n",
    "                    # 使用 BFS 将这个岛屿所有相连的 '1' 都标记为 '0'\n",
    "                    bfs(i, j)\n",
    "        \n",
    "        return num_islands\n"
   ]
  }
 ],
 "metadata": {
  "kernelspec": {
   "display_name": "Python 3",
   "language": "python",
   "name": "python3"
  },
  "language_info": {
   "codemirror_mode": {
    "name": "ipython",
    "version": 3
   },
   "file_extension": ".py",
   "mimetype": "text/x-python",
   "name": "python",
   "nbconvert_exporter": "python",
   "pygments_lexer": "ipython3",
   "version": "3.11.4"
  }
 },
 "nbformat": 4,
 "nbformat_minor": 2
}
