{
 "cells": [
  {
   "cell_type": "code",
   "execution_count": null,
   "metadata": {},
   "outputs": [],
   "source": [
    "class Solution:\n",
    "    def kthSmallest(self, root, k):\n",
    "        elements = []\n",
    "        \n",
    "        def inorder(node):\n",
    "            if not node:\n",
    "                return\n",
    "            inorder(node.left)  # 先遍历左子树\n",
    "            elements.append(node.val)  # 访问根节点\n",
    "            inorder(node.right)  # 遍历右子树\n",
    "        \n",
    "        inorder(root)\n",
    "        return elements[k - 1]  # 第 k 小元素（从 0 开始索引）\n"
   ]
  },
  {
   "cell_type": "code",
   "execution_count": null,
   "metadata": {},
   "outputs": [],
   "source": [
    "class Solution:\n",
    "    def kthSmallest(self, root, k):\n",
    "        stack = []\n",
    "        while True:\n",
    "            while root:\n",
    "                stack.append(root)\n",
    "                root = root.left  # 先走到最左边\n",
    "            root = stack.pop()  # 取出当前最小值\n",
    "            k -= 1 # 访问第 k 个数\n",
    "            if k == 0:\n",
    "                return root.val  # 找到第 k 小的元素\n",
    "            root = root.right  # 访问右子树\n"
   ]
  }
 ],
 "metadata": {
  "kernelspec": {
   "display_name": "base",
   "language": "python",
   "name": "python3"
  },
  "language_info": {
   "name": "python",
   "version": "3.12.7"
  }
 },
 "nbformat": 4,
 "nbformat_minor": 2
}
