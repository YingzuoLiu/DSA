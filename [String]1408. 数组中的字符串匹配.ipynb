{
 "cells": [
  {
   "cell_type": "code",
   "execution_count": null,
   "metadata": {},
   "outputs": [],
   "source": [
    "class Solution:\n",
    "    def stringMatching(self, words: List[str]) -> List[str]:\n",
    "        result = []\n",
    "        \n",
    "        # 遍历数组中每个单词\n",
    "        for i in range(len(words)):\n",
    "            # 检查每个单词是否是其他单词的子字符串\n",
    "            for j in range(len(words)):\n",
    "                if i != j and words[i] in words[j]:\n",
    "                    result.append(words[i])\n",
    "                    break\n",
    "        \n",
    "        return result"
   ]
  }
 ],
 "metadata": {
  "language_info": {
   "name": "python"
  }
 },
 "nbformat": 4,
 "nbformat_minor": 2
}
