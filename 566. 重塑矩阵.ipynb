{
 "cells": [
  {
   "cell_type": "code",
   "execution_count": null,
   "metadata": {
    "vscode": {
     "languageId": "plaintext"
    }
   },
   "outputs": [],
   "source": [
    "from typing import List\n",
    "\n",
    "class Solution:\n",
    "    def matrixReshape(self, mat: List[List[int]], r: int, c: int) -> List[List[int]]:\n",
    "        # 原矩阵的行数和列数\n",
    "        m, n = len(mat), len(mat[0])\n",
    "        \n",
    "        # 如果元素数量不匹配，直接返回原矩阵\n",
    "        if m * n != r * c:\n",
    "            return mat\n",
    "        \n",
    "        # 将矩阵展开成一维列表\n",
    "        elements = [num for row in mat for num in row]\n",
    "        \n",
    "        # 构造新的 r x c 矩阵\n",
    "        reshaped = [[elements[i * c + j] for j in range(c)] for i in range(r)]\n",
    "        \n",
    "        return reshaped\n"
   ]
  }
 ],
 "metadata": {
  "language_info": {
   "name": "python"
  }
 },
 "nbformat": 4,
 "nbformat_minor": 2
}
