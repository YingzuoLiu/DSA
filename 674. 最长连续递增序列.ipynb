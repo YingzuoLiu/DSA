{
 "cells": [
  {
   "cell_type": "code",
   "execution_count": null,
   "metadata": {},
   "outputs": [],
   "source": [
    "class Solution:\n",
    "    def findLengthOfLCIS(self, nums: List[int]) -> int:\n",
    "        if not nums:\n",
    "            return 0\n",
    "        \n",
    "        max_len = 1  # 最长递增子序列的长度，初始值为1（因为最短的递增序列至少有一个元素）\n",
    "        current_len = 1  # 当前递增子序列的长度\n",
    "        \n",
    "        # 遍历数组，从第二个元素开始\n",
    "        for i in range(1, len(nums)):\n",
    "            # 如果当前元素比前一个元素大，说明递增\n",
    "            if nums[i] > nums[i - 1]:\n",
    "                current_len += 1  # 递增子序列长度加1\n",
    "            else:\n",
    "                max_len = max(max_len, current_len)  # 更新最长递增子序列长度\n",
    "                current_len = 1  # 重置当前递增子序列长度为1\n",
    "        \n",
    "        # 最后再检查一次，防止递增子序列在末尾\n",
    "        return max(max_len, current_len)"
   ]
  }
 ],
 "metadata": {
  "language_info": {
   "name": "python"
  }
 },
 "nbformat": 4,
 "nbformat_minor": 2
}
