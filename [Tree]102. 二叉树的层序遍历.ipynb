{
 "cells": [
  {
   "cell_type": "code",
   "execution_count": null,
   "metadata": {},
   "outputs": [],
   "source": [
    "# Definition for a binary tree node.\n",
    "# class TreeNode:\n",
    "#     def __init__(self, val=0, left=None, right=None):\n",
    "#         self.val = val\n",
    "#         self.left = left\n",
    "#         self.right = right\n",
    "class Solution:\n",
    "    def levelOrder(self, root: Optional[TreeNode]) -> List[List[int]]:\n",
    "        if not root:\n",
    "            return []\n",
    "\n",
    "        result = []\n",
    "        queue = deque([root])\n",
    "\n",
    "        while queue:\n",
    "            level = []\n",
    "            for i in range(len(queue)):\n",
    "                node = queue.popleft()  # 从队列左侧取出节点\n",
    "                level.append(node.val)\n",
    "                if node.left:\n",
    "                    queue.append(node.left)  # 将左子节点加入队列\n",
    "                if node.right:\n",
    "                    queue.append(node.right)  # 将右子节点加入队列\n",
    "            result.append(level)\n",
    "\n",
    "        return result"
   ]
  },
  {
   "cell_type": "markdown",
   "metadata": {},
   "source": [
    "deque 是一种高效的双端队列数据结构，支持在两端快速添加和删除元素。"
   ]
  },
  {
   "cell_type": "code",
   "execution_count": null,
   "metadata": {},
   "outputs": [],
   "source": [
    "from collections import deque\n",
    "\n",
    "# 创建双端队列\n",
    "dq = deque()\n",
    "\n",
    "# 在队尾插入元素\n",
    "dq.append(1)      # dq = [1]\n",
    "dq.append(2)      # dq = [1, 2]\n",
    "\n",
    "# 在队首插入元素\n",
    "dq.appendleft(0)  # dq = [0, 1, 2]\n",
    "\n",
    "# 从队尾删除元素\n",
    "dq.pop()          # dq = [0, 1]\n",
    "\n",
    "# 从队首删除元素\n",
    "dq.popleft()      # dq = [1]\n"
   ]
  }
 ],
 "metadata": {
  "language_info": {
   "name": "python"
  }
 },
 "nbformat": 4,
 "nbformat_minor": 2
}
