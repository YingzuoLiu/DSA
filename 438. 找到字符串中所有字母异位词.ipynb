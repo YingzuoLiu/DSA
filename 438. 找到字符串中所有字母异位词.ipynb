{
 "cells": [
  {
   "cell_type": "markdown",
   "metadata": {},
   "source": [
    "滑动窗口以及哈希表"
   ]
  },
  {
   "cell_type": "code",
   "execution_count": 1,
   "metadata": {},
   "outputs": [],
   "source": [
    "from collections import Counter\n",
    "from typing import List\n",
    "\n",
    "class Solution:\n",
    "    def findAnagrams(self, s: str, p: str) -> List[int]:\n",
    "        result = []\n",
    "        len_p = len(p)\n",
    "        len_s = len(s)\n",
    "        \n",
    "        # 如果 p 长度大于 s，直接返回空列表\n",
    "        if len_p > len_s:\n",
    "            return result\n",
    "        \n",
    "        # 使用 Counter 统计 p 中字符频率\n",
    "        p_count = Counter(p)\n",
    "        s_count = Counter()\n",
    "        \n",
    "        for i in range(len_s):\n",
    "            # 增加当前字符到窗口\n",
    "            s_count[s[i]] += 1\n",
    "            \n",
    "            # 如果窗口大小大于 p 的长度，则移除最左边的字符\n",
    "            if i >= len_p:\n",
    "                if s_count[s[i - len_p]] == 1:\n",
    "                    del s_count[s[i - len_p]]\n",
    "                else:\n",
    "                    s_count[s[i - len_p]] -= 1\n",
    "            \n",
    "            # 如果窗口内字符频率与 p 相同，记录起始索引\n",
    "            if s_count == p_count:\n",
    "                result.append(i - len_p + 1)\n",
    "        \n",
    "        return result"
   ]
  },
  {
   "cell_type": "code",
   "execution_count": 2,
   "metadata": {},
   "outputs": [
    {
     "name": "stdout",
     "output_type": "stream",
     "text": [
      "[0, 6]\n"
     ]
    }
   ],
   "source": [
    "solution = Solution()\n",
    "\n",
    "s = \"cbaebabacd\"\n",
    "p = \"abc\"\n",
    "print(solution.findAnagrams(s,p))"
   ]
  }
 ],
 "metadata": {
  "kernelspec": {
   "display_name": "Python 3",
   "language": "python",
   "name": "python3"
  },
  "language_info": {
   "codemirror_mode": {
    "name": "ipython",
    "version": 3
   },
   "file_extension": ".py",
   "mimetype": "text/x-python",
   "name": "python",
   "nbconvert_exporter": "python",
   "pygments_lexer": "ipython3",
   "version": "3.11.4"
  }
 },
 "nbformat": 4,
 "nbformat_minor": 2
}
