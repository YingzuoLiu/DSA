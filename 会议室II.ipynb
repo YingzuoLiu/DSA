{
 "cells": [
  {
   "cell_type": "code",
   "execution_count": null,
   "id": "6d6d8fbb",
   "metadata": {},
   "outputs": [],
   "source": [
    "import heapq\n",
    "\n",
    "class Solution:\n",
    "    def minMeetingRooms(self, intervals: List[Interval]) -> int:\n",
    "        if not intervals:\n",
    "            return 0\n",
    "\n",
    "        # 按会议开始时间排序\n",
    "        intervals.sort(key=lambda x: x.start)\n",
    "\n",
    "        # 初始化一个最小堆，存放会议的结束时间\n",
    "        heap = []\n",
    "\n",
    "        for interval in intervals:\n",
    "            start = interval.start\n",
    "            end = interval.end\n",
    "\n",
    "            # 如果当前会议开始时间 >= 堆顶会议的结束时间，就可以复用会议室\n",
    "            if heap and start >= heap[0]:\n",
    "                heapq.heappop(heap)\n",
    "\n",
    "            # 无论是否复用，都要把当前会议的结束时间加入堆\n",
    "            heapq.heappush(heap, end)\n",
    "\n",
    "        # 堆中存放的是当前正在使用的会议室的结束时间\n",
    "        return len(heap)\n"
   ]
  }
 ],
 "metadata": {
  "language_info": {
   "name": "python"
  }
 },
 "nbformat": 4,
 "nbformat_minor": 5
}
