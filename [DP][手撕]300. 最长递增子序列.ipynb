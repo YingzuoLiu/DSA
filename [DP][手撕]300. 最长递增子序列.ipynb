{
 "cells": [
  {
   "cell_type": "code",
   "execution_count": null,
   "metadata": {},
   "outputs": [],
   "source": [
    "class Solution:\n",
    "    def lengthOfLIS(self, nums: List[int]) -> int:\n",
    "        if not nums: \n",
    "            return 0\n",
    "        \n",
    "        n = len(nums)  \n",
    "        dp = [1] * n  # 初始化DP数组，表示每个元素都至少是长度为1的递增子序列\n",
    "\n",
    "        # 动态规划的双重循环\n",
    "        for i in range(1, n):  # 遍历每一个数字\n",
    "            for j in range(i):  # 遍历当前数字之前的所有数字\n",
    "                if nums[j] < nums[i]:  # 如果前面的数字小于当前数字\n",
    "                    # 更新dp[i]，表示可以通过nums[i]扩展nums[j]的递增子序列\n",
    "                    dp[i] = max(dp[i], dp[j] + 1)\n",
    "\n",
    "        # 最终最长的递增子序列是dp数组中的最大值\n",
    "        return max(dp)  "
   ]
  }
 ],
 "metadata": {
  "language_info": {
   "name": "python"
  }
 },
 "nbformat": 4,
 "nbformat_minor": 2
}
