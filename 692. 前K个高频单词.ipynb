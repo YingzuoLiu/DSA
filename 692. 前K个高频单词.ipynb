{
 "cells": [
  {
   "cell_type": "code",
   "execution_count": null,
   "metadata": {
    "vscode": {
     "languageId": "plaintext"
    }
   },
   "outputs": [],
   "source": [
    "from collections import Counter"
   ]
  },
  {
   "cell_type": "code",
   "execution_count": null,
   "metadata": {
    "vscode": {
     "languageId": "plaintext"
    }
   },
   "outputs": [],
   "source": [
    "class Solution:\n",
    "    def topKFrequent(self, words: List[str], k: int) -> List[str]:\n",
    "        # 统计频率\n",
    "        count = Counter(words)\n",
    "        \n",
    "        # 按频率降序，字典序升序排序\n",
    "        sorted_words = sorted(count.keys(), key=lambda x: (-count[x], x))\n",
    "        \n",
    "        # 返回前 k 个单词\n",
    "        return sorted_words[:k]      "
   ]
  }
 ],
 "metadata": {
  "language_info": {
   "name": "python"
  }
 },
 "nbformat": 4,
 "nbformat_minor": 2
}
