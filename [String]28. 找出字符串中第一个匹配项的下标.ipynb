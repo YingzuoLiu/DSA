{
 "cells": [
  {
   "cell_type": "code",
   "execution_count": null,
   "metadata": {},
   "outputs": [],
   "source": [
    "class Solution:\n",
    "    def strStr(self, haystack: str, needle: str) -> int:\n",
    "        return haystack.find(needle)"
   ]
  },
  {
   "cell_type": "code",
   "execution_count": null,
   "metadata": {},
   "outputs": [],
   "source": [
    "class Solution:\n",
    "    def strStr(self, haystack: str, needle: str) -> int:\n",
    "        # 如果 needle 为空，返回 0\n",
    "        if not needle:\n",
    "            return 0\n",
    "        \n",
    "        # 获取 haystack 和 needle 的长度\n",
    "        h_len, n_len = len(haystack), len(needle)\n",
    "        \n",
    "        # 遍历 haystack 中的每一个可能的子字符串\n",
    "        for i in range(h_len - n_len + 1):\n",
    "            # 如果找到匹配的子字符串，返回其起始位置\n",
    "            if haystack[i:i + n_len] == needle:\n",
    "                return i\n",
    "        \n",
    "        # 如果没有找到匹配的子字符串，返回 -1\n",
    "        return -1\n"
   ]
  }
 ],
 "metadata": {
  "language_info": {
   "name": "python"
  }
 },
 "nbformat": 4,
 "nbformat_minor": 2
}
