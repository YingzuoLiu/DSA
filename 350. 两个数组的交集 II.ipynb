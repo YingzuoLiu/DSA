{
 "cells": [
  {
   "cell_type": "code",
   "execution_count": null,
   "metadata": {},
   "outputs": [],
   "source": [
    "from typing import List\n",
    "from collections import Counter\n",
    "\n",
    "class Solution:\n",
    "    def intersect(self, nums1: List[int], nums2: List[int]) -> List[int]:\n",
    "        # 统计每个元素在 nums1 和 nums2 中的出现次数\n",
    "        count1 = Counter(nums1)\n",
    "        count2 = Counter(nums2)\n",
    "        \n",
    "        # 初始化结果数组\n",
    "        intersection = []\n",
    "        \n",
    "        # 遍历 count1 中的元素，计算交集\n",
    "        for num in count1:\n",
    "            if num in count2:\n",
    "                # 取两个数组中元素出现的最小次数\n",
    "                min_count = min(count1[num], count2[num])\n",
    "                # 将元素添加到结果数组中\n",
    "                intersection.extend([num] * min_count)\n",
    "        \n",
    "        return intersection"
   ]
  }
 ],
 "metadata": {
  "language_info": {
   "name": "python"
  }
 },
 "nbformat": 4,
 "nbformat_minor": 2
}
