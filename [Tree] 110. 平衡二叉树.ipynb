{
 "cells": [
  {
   "cell_type": "code",
   "execution_count": null,
   "metadata": {},
   "outputs": [],
   "source": [
    "# Definition for a binary tree node.\n",
    "# class TreeNode:\n",
    "#     def __init__(self, val=0, left=None, right=None):\n",
    "#         self.val = val\n",
    "#         self.left = left\n",
    "#         self.right = right\n",
    "class Solution:\n",
    "    def isBalanced(self, root: TreeNode) -> bool:\n",
    "        def dfs(node):\n",
    "            if not node:\n",
    "                return 0\n",
    "            \n",
    "            left_height = dfs(node.left)\n",
    "            if left_height == -1:\n",
    "                return -1\n",
    "            \n",
    "            right_height = dfs(node.right)\n",
    "            if right_height == -1:\n",
    "                return -1\n",
    "            \n",
    "            if abs(left_height - right_height) > 1:\n",
    "                return -1"
   ]
  }
 ],
 "metadata": {
  "language_info": {
   "name": "python"
  }
 },
 "nbformat": 4,
 "nbformat_minor": 2
}
