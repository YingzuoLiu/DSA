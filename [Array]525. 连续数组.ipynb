{
 "cells": [
  {
   "cell_type": "code",
   "execution_count": 2,
   "metadata": {},
   "outputs": [
    {
     "name": "stdout",
     "output_type": "stream",
     "text": [
      "2\n",
      "2\n",
      "6\n"
     ]
    }
   ],
   "source": [
    "from typing import List\n",
    "\n",
    "class Solution:\n",
    "    def findMaxLength(self, nums: List[int]) -> int:\n",
    "        # 哈希表存储差值及其首次出现的位置\n",
    "        count_map = {0: -1}  # 差值为0时的起始位置\n",
    "        max_length = 0  # 用于存储最长的连续子数组长度\n",
    "        count = 0  # 计数器，1 +1， 0 -1\n",
    "        \n",
    "        for i, num in enumerate(nums): # 遍历数组\n",
    "            # 将0视为-1，1视为+1\n",
    "            if num == 1:\n",
    "                count += 1\n",
    "            else:\n",
    "                count -= 1\n",
    "            \n",
    "            # 如果当前差值已存在，计算长度\n",
    "            if count in count_map: # 如果这个count之前出现过\n",
    "                current_length = i - count_map[count] # 计算从上次出现的位置到当前位置的长度\n",
    "                if current_length > max_length:\n",
    "                    max_length = current_length\n",
    "            else:\n",
    "                # 记录第一次出现的位置\n",
    "                count_map[count] = i # 如果这个count没出现过，把它的第一次出现位置记录下来\n",
    "                \n",
    "        return max_length # 返回最长子数组的长度\n",
    "\n",
    "# 示例测试\n",
    "sol = Solution()\n",
    "print(sol.findMaxLength([0, 1]))         \n",
    "print(sol.findMaxLength([0, 1, 0]))      \n",
    "print(sol.findMaxLength([0, 1, 0, 1, 0, 1, 1])) \n",
    "\n"
   ]
  }
 ],
 "metadata": {
  "kernelspec": {
   "display_name": "Python 3",
   "language": "python",
   "name": "python3"
  },
  "language_info": {
   "codemirror_mode": {
    "name": "ipython",
    "version": 3
   },
   "file_extension": ".py",
   "mimetype": "text/x-python",
   "name": "python",
   "nbconvert_exporter": "python",
   "pygments_lexer": "ipython3",
   "version": "3.11.4"
  }
 },
 "nbformat": 4,
 "nbformat_minor": 2
}
