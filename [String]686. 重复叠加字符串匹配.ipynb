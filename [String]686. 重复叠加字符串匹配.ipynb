{
 "cells": [
  {
   "cell_type": "markdown",
   "metadata": {},
   "source": [
    "解题思路：\n",
    "先将字符串 a 不断叠加，直到叠加后的长度大于或等于 b 的长度为止。\n",
    "在叠加后的字符串中，检查 b 是否为其子串。\n",
    "如果在多次叠加后找到了 b 是 a 的子串，那么返回叠加的次数。\n",
    "如果找不到，继续再多叠加一次 a，因为有可能 b 的部分字符位于一次叠加的结尾，另一些字符位于下一次叠加的开头。\n",
    "如果叠加一定次数后仍然找不到 b，返回 -1。"
   ]
  },
  {
   "cell_type": "code",
   "execution_count": null,
   "metadata": {},
   "outputs": [],
   "source": [
    "class Solution:\n",
    "    def repeatedStringMatch(self, a: str, b: str) -> int:\n",
    "        # 计算最少需要的叠加次数，起码是 b 长度除以 a 的长度，向上取整\n",
    "        repeat_count = -(-len(b) // len(a))  # 等价于 math.ceil(len(b) / len(a))\n",
    "\n",
    "        # 先叠加 repeat_count 次 a\n",
    "        repeated_a = a * repeat_count\n",
    "\n",
    "        # 如果叠加后的字符串包含 b，返回叠加次数\n",
    "        if b in repeated_a:\n",
    "            return repeat_count\n",
    "\n",
    "        # 如果再多叠加一次，检查是否包含 b\n",
    "        repeated_a += a\n",
    "        if b in repeated_a:\n",
    "            return repeat_count + 1\n",
    "\n",
    "        # 如果找不到，返回 -1\n",
    "        return -1"
   ]
  }
 ],
 "metadata": {
  "language_info": {
   "name": "python"
  }
 },
 "nbformat": 4,
 "nbformat_minor": 2
}
