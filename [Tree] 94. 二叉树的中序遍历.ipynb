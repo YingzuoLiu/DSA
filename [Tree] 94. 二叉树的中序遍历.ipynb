{
 "cells": [
  {
   "cell_type": "code",
   "execution_count": null,
   "metadata": {},
   "outputs": [],
   "source": [
    "class Solution:\n",
    "    def inorderTraversal(self, root: Optional[TreeNode]) -> List[int]:\n",
    "        result = []\n",
    "        self._inorder(root, result)\n",
    "        return result\n",
    "    \n",
    "    def _inorder(self, node: Optional[TreeNode], result: List[int]):\n",
    "        if node:\n",
    "            # 1. 递归遍历左子树\n",
    "            self._inorder(node.left, result)\n",
    "            # 2. 访问当前节点\n",
    "            result.append(node.val)\n",
    "            # 3. 递归遍历右子树\n",
    "            self._inorder(node.right, result)\n"
   ]
  }
 ],
 "metadata": {
  "language_info": {
   "name": "python"
  }
 },
 "nbformat": 4,
 "nbformat_minor": 2
}
