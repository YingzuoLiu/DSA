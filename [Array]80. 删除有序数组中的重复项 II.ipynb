{
 "cells": [
  {
   "cell_type": "code",
   "execution_count": null,
   "metadata": {},
   "outputs": [],
   "source": [
    "class Solution:\n",
    "    def removeDuplicates(self, nums: List[int]) -> int:\n",
    "        # 如果数组长度小于等于2，直接返回，因为最多允许出现2次\n",
    "        if len(nums) <= 2:\n",
    "            return len(nums)\n",
    "        \n",
    "        # 指针j，用来追踪有效元素的位置\n",
    "        j = 2  # 因为前两个元素可以直接保留\n",
    "        \n",
    "        for i in range(2, len(nums)):\n",
    "            # 如果nums[i] != nums[j-2]，意味着当前元素可以保留\n",
    "            if nums[i] != nums[j-2]:\n",
    "                nums[j] = nums[i]\n",
    "                j += 1\n",
    "        \n",
    "        return j "
   ]
  },
  {
   "cell_type": "markdown",
   "metadata": {},
   "source": [
    "初始判断：if len(nums) <= 2: return len(nums) —— 如果数组长度小于等于 2，说明不可能有超过两次的重复元素，直接返回长度即可。\n",
    "\n",
    "初始化指针 j：我们从第三个元素开始比较，因此将 j 初始化为 2（前两个元素总是可以保留的）。\n",
    "\n",
    "遍历数组：从索引 2 开始，逐个检查元素 nums[i] 是否与 nums[j-2] 相同。如果相同，说明这个元素已经出现超过两次，跳过它；如果不同，将 nums[i] 放到 nums[j] 的位置，并将 j 增加。\n",
    "\n",
    "返回新长度：遍历完成后，j 指针的值就是去重后的数组长度，数组的前 j 个元素是符合条件的有效元素。"
   ]
  }
 ],
 "metadata": {
  "language_info": {
   "name": "python"
  }
 },
 "nbformat": 4,
 "nbformat_minor": 2
}
