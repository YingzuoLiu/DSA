{
 "cells": [
  {
   "cell_type": "code",
   "execution_count": null,
   "metadata": {},
   "outputs": [],
   "source": [
    "# DP\n",
    "from typing import List\n",
    "\n",
    "class Solution:\n",
    "    def maxSubArray(self, nums: List[int]) -> int:\n",
    "        n = len(nums)\n",
    "        dp = [0] * n  # dp[i] 表示以 nums[i] 结尾的最大子数组和\n",
    "        dp[0] = nums[0]  # 初始化\n",
    "        max_sum = dp[0]  # 记录全局最大值\n",
    "        \n",
    "        for i in range(1, n):\n",
    "            dp[i] = max(dp[i-1] + nums[i], nums[i])  # 状态转移\n",
    "            max_sum = max(max_sum, dp[i])  # 更新最大值\n",
    "        \n",
    "        return max_sum\n"
   ]
  },
  {
   "cell_type": "code",
   "execution_count": null,
   "metadata": {},
   "outputs": [],
   "source": [
    "# Kadane’s Algorithm \n",
    "# 只用 O(1) 空间 记录最大值，避免存 O(n) 规模的 dp 数组。\n",
    "\n",
    "from typing import List\n",
    "\n",
    "class Solution:\n",
    "    def maxSubArray(self, nums: List[int]) -> int:\n",
    "        max_sum = float('-inf')  # 记录最大子数组和\n",
    "        current_sum = 0  # 记录当前子数组的和\n",
    "        \n",
    "        for num in nums:\n",
    "            if current_sum < 0:\n",
    "                current_sum = num  # 重新开始新的子数组\n",
    "            else:\n",
    "                current_sum += num  # 继续累加\n",
    "            \n",
    "            max_sum = max(max_sum, current_sum)  # 更新最大值\n",
    "        \n",
    "        return max_sum\n"
   ]
  }
 ],
 "metadata": {
  "kernelspec": {
   "display_name": "base",
   "language": "python",
   "name": "python3"
  },
  "language_info": {
   "name": "python",
   "version": "3.12.7"
  }
 },
 "nbformat": 4,
 "nbformat_minor": 2
}
