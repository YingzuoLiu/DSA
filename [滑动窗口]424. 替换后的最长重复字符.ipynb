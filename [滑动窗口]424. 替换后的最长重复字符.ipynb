{
 "cells": [
  {
   "cell_type": "code",
   "execution_count": null,
   "metadata": {},
   "outputs": [],
   "source": [
    "def characterReplacement(s: str, k: int) -> int:\n",
    "    from collections import defaultdict\n",
    "\n",
    "    count = defaultdict(int)  # 用于记录窗口中每个字符的出现次数\n",
    "    max_length = 0  # 最大长度\n",
    "    max_count = 0   # 窗口内出现最多的字符的次数\n",
    "    left = 0        # 左指针\n",
    "\n",
    "    for right in range(len(s)):\n",
    "        # 扩展窗口，增加当前字符的计数\n",
    "        count[s[right]] += 1\n",
    "        # 更新窗口中最多字符的次数\n",
    "        max_count = max(max_count, count[s[right]])\n",
    "\n",
    "        # 判断当前窗口是否合法\n",
    "        while (right - left + 1) - max_count > k:\n",
    "            # 收缩窗口，减少左指针对应字符的计数\n",
    "            count[s[left]] -= 1\n",
    "            left += 1\n",
    "\n",
    "        # 更新最大长度\n",
    "        max_length = max(max_length, right - left + 1)\n",
    "\n",
    "    return max_length\n"
   ]
  }
 ],
 "metadata": {
  "language_info": {
   "name": "python"
  }
 },
 "nbformat": 4,
 "nbformat_minor": 2
}
