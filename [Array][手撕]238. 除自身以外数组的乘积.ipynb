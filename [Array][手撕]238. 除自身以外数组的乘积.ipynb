{
 "cells": [
  {
   "cell_type": "code",
   "execution_count": null,
   "metadata": {},
   "outputs": [],
   "source": [
    "class Solution:\n",
    "    def productExceptSelf(self, nums: List[int]) -> List[int]:\n",
    "        n = len(nums)\n",
    "        \n",
    "        # 初始化前缀和后缀乘积数组\n",
    "        answer = [1] * n  \n",
    "        prefix = 1\n",
    "        suffix = 1\n",
    "        \n",
    "        # 计算前缀乘积并存储在答案数组中\n",
    "        for i in range(n):\n",
    "            answer[i] = prefix\n",
    "            prefix *= nums[i]\n",
    "        \n",
    "        # 计算后缀乘积，并乘以前缀乘积更新答案数组\n",
    "        for i in range(n - 1, -1, -1):\n",
    "            answer[i] *= suffix\n",
    "            suffix *= nums[i]\n",
    "        \n",
    "        return answer"
   ]
  },
  {
   "cell_type": "markdown",
   "metadata": {},
   "source": [
    "前缀乘积计算：\n",
    "\n",
    "我们从左到右遍历 nums，并更新 prefix 变量。\n",
    "prefix 初始为 1，在每次迭代中，它被乘以当前元素 nums[i]，并更新 answer[i]。\n",
    "后缀乘积计算：\n",
    "\n",
    "我们从右到左遍历 nums，并更新 suffix 变量。\n",
    "suffix 初始为 1，在每次迭代中，它被乘以当前元素 nums[i]，并更新 answer[i]"
   ]
  },
  {
   "cell_type": "markdown",
   "metadata": {},
   "source": [
    "输入: nums = [1,2,3,4]\n",
    "前缀积计算：\n",
    "\n",
    "prefix[0] = 1 → answer = [1, 1, 1, 1]\n",
    "prefix[1] = 1 * 1 = 1 → answer = [1, 1, 2, 1]\n",
    "prefix[2] = 1 * 2 = 2 → answer = [1, 1, 2, 6]\n",
    "prefix[3] = 2 * 3 = 6 → answer = [1, 1, 2, 6]\n",
    "后缀积计算：\n",
    "\n",
    "suffix[3] = 1 → answer = [1, 1, 2, 6]\n",
    "suffix[2] = 1 * 4 = 4 → answer = [1, 1, 8, 6]\n",
    "suffix[1] = 4 * 3 = 12 → answer = [1, 12, 8, 6]\n",
    "suffix[0] = 12 * 2 = 24 → answer = [24, 12, 8, 6]\n",
    "最终输出结果为 [24, 12, 8, 6]"
   ]
  }
 ],
 "metadata": {
  "language_info": {
   "name": "python"
  }
 },
 "nbformat": 4,
 "nbformat_minor": 2
}
