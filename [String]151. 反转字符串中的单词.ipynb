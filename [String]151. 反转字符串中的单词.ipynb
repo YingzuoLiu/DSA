{
 "cells": [
  {
   "cell_type": "markdown",
   "metadata": {},
   "source": [
    "去除多余空格：去除前导空格、尾随空格以及单词之间的多余空格。\n",
    "拆分字符串：根据空格将字符串拆分成单词列表。\n",
    "反转单词顺序：将拆分后的单词列表反转。\n",
    "重新连接单词：将反转后的单词列表重新用单个空格连接成一个字符串。"
   ]
  },
  {
   "cell_type": "code",
   "execution_count": 1,
   "metadata": {},
   "outputs": [],
   "source": [
    "class Solution:\n",
    "    def reverseWords(self, s: str) -> str:\n",
    "        # 去除前导空格、尾随空格，并按空格分割字符串为单词列表\n",
    "        words = s.strip().split()\n",
    "        # 反转单词列表\n",
    "        words.reverse()\n",
    "        # 用空格将单词连接起来，并返回结果\n",
    "        return ' '.join(words)\n"
   ]
  },
  {
   "cell_type": "code",
   "execution_count": 2,
   "metadata": {},
   "outputs": [
    {
     "name": "stdout",
     "output_type": "stream",
     "text": [
      "blue is sky the\n"
     ]
    }
   ],
   "source": [
    "s = \"the sky is blue\"\n",
    "solution = Solution()\n",
    "print(solution.reverseWords(s))  # 输出: \"blue is sky the\"\n"
   ]
  }
 ],
 "metadata": {
  "kernelspec": {
   "display_name": "Python 3",
   "language": "python",
   "name": "python3"
  },
  "language_info": {
   "codemirror_mode": {
    "name": "ipython",
    "version": 3
   },
   "file_extension": ".py",
   "mimetype": "text/x-python",
   "name": "python",
   "nbconvert_exporter": "python",
   "pygments_lexer": "ipython3",
   "version": "3.11.4"
  }
 },
 "nbformat": 4,
 "nbformat_minor": 2
}
